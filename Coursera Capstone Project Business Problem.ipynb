{
 "cells": [
  {
   "cell_type": "markdown",
   "metadata": {},
   "source": [
    "<h1>Coursera Capstone Project Notebook 1</h1>"
   ]
  },
  {
   "cell_type": "markdown",
   "metadata": {},
   "source": [
    "<h2>Introduction to the business problem</h2>"
   ]
  },
  {
   "cell_type": "markdown",
   "metadata": {},
   "source": [
    "<h3>Background</h3>"
   ]
  },
  {
   "cell_type": "markdown",
   "metadata": {},
   "source": [
    "Hong Kong has emerged as one of the topmost alpha + world cities. Being emerged as one of the crucial center for economic activities, it has secured the seventh position among the largest trading centers of the world. Interestingly, it is not only recognized as a mere financial port but also as a multicultural hub. It is also viewed as a bridge between Asia and America. Apart from these, it is also considered as one of the prime tourist zones. Its colorful traditions, natural scenes and glamorous views magnetize hundreds of thousands of tourists every year. "
   ]
  },
  {
   "cell_type": "markdown",
   "metadata": {},
   "source": [
    "<h3>Problem</h3>"
   ]
  },
  {
   "cell_type": "markdown",
   "metadata": {},
   "source": [
    "The purpose of this project is to locate some best spots for opening up a Vegetarian Restaurant in Hong Kong. The primary requirement is that the location should not be already busted with other restaurants. It must be noted that Hong Kong is already crowded with hundreds of restaurants which vary over sixty categories. Moreover, location should be near some scenic view point as well as farther from dense residential areas. The availability of nearby raw stuff (i.e. vegetables etc) market in a seafood preferred area would be another issue as well."
   ]
  },
  {
   "cell_type": "markdown",
   "metadata": {},
   "source": [
    "And meeting up these requirements in world’s fourth densely populated, and multicultural and international business hub, is not that easy. So, we will be using Data Science to hit the target. "
   ]
  },
  {
   "cell_type": "markdown",
   "metadata": {},
   "source": [
    "<h3>Problem Statement</h3>"
   ]
  },
  {
   "cell_type": "markdown",
   "metadata": {},
   "source": [
    "Finally, in a nutshell, the business problem can be summed up as: Locate the optimum areas for setting up a vegetarian restaurant in the stiff competitive world of Hong Kong."
   ]
  },
  {
   "cell_type": "markdown",
   "metadata": {},
   "source": [
    "<h3>Target Audience</h3>"
   ]
  },
  {
   "cell_type": "markdown",
   "metadata": {},
   "source": [
    "This project would interest any individual or group who wants to set up a restaurant or more specifically, a vegetarian restaurant in Hong Kong.\n"
   ]
  }
 ],
 "metadata": {
  "kernelspec": {
   "display_name": "Python 3",
   "language": "python",
   "name": "python3"
  },
  "language_info": {
   "codemirror_mode": {
    "name": "ipython",
    "version": 3
   },
   "file_extension": ".py",
   "mimetype": "text/x-python",
   "name": "python",
   "nbconvert_exporter": "python",
   "pygments_lexer": "ipython3",
   "version": "3.6.8"
  }
 },
 "nbformat": 4,
 "nbformat_minor": 2
}
