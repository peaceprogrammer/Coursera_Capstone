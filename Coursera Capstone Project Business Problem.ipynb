{
 "cells": [
  {
   "cell_type": "markdown",
   "metadata": {},
   "source": [
    "<h1>Coursera Capstone Project Notebook 1</h1"
   ]
  },
  {
   "cell_type": "markdown",
   "metadata": {},
   "source": [
    "<h2>Buisness Problem</h2>"
   ]
  },
  {
   "cell_type": "markdown",
   "metadata": {},
   "source": [
    "Hong Kong has emerged as one of the topmost alpha + world cities. It has been ranked as seventh largest trading center of the world. It is not only being recognized as a mere financial port but also as a multicultural hub. It may be viewed as a bridge between Asia and America. Apart from these, it is also considered as one of the prime tourist zones."
   ]
  },
  {
   "cell_type": "markdown",
   "metadata": {},
   "source": [
    "The purpose of this project is to locate some best spots for opening up a Vegetarian Restaurant in Hong Kong. The primary requirement is that the location should not be already busted with other restaurants. Moreover, it should be near some scenic view point as well as farther from dense residential areas. \n",
    "But meeting up these requirements in world’s fourth densely populated, and multicultural and international business hub, is not that easy. So, we will be using Data Science to hit the target. "
   ]
  },
  {
   "cell_type": "markdown",
   "metadata": {},
   "source": [
    "Finally, in a nutshell, the business problem can be summed up as: Locate the optimum areas for setting up a vegetarian restaurant in the stiff competitive world of Hong Kong."
   ]
  }
 ],
 "metadata": {
  "kernelspec": {
   "display_name": "Python 3",
   "language": "python",
   "name": "python3"
  },
  "language_info": {
   "codemirror_mode": {
    "name": "ipython",
    "version": 3
   },
   "file_extension": ".py",
   "mimetype": "text/x-python",
   "name": "python",
   "nbconvert_exporter": "python",
   "pygments_lexer": "ipython3",
   "version": "3.6.8"
  }
 },
 "nbformat": 4,
 "nbformat_minor": 2
}
