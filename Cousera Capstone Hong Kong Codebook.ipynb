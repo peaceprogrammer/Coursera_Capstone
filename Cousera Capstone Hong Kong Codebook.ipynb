{
 "cells": [
  {
   "cell_type": "markdown",
   "metadata": {},
   "source": [
    "<h1>Cousera Capstone Hong Kong Codebook</h1>"
   ]
  },
  {
   "cell_type": "markdown",
   "metadata": {},
   "source": [
    "<h2>Introduction</h2>"
   ]
  },
  {
   "cell_type": "markdown",
   "metadata": {},
   "source": [
    "The aim of this project is to locate the optimum areas for setting up a vegetarian restaurant in Hong Kong. This notebook shows the code for this project."
   ]
  },
  {
   "cell_type": "markdown",
   "metadata": {},
   "source": [
    "The most important factors considered for finding a good location for restaurant are:\n",
    "* That area should have less number of restaurants especailly, vegetarian ones.\n",
    "* That area should be away from dense populated ressidentials.\n",
    "* It should be near some scenic spot."
   ]
  },
  {
   "cell_type": "markdown",
   "metadata": {},
   "source": [
    "<h2>Initial Preparation</h2>"
   ]
  },
  {
   "cell_type": "markdown",
   "metadata": {},
   "source": [
    "<b>First of all, import required libraries.</b>"
   ]
  },
  {
   "cell_type": "code",
   "execution_count": 1,
   "metadata": {},
   "outputs": [
    {
     "name": "stdout",
     "output_type": "stream",
     "text": [
      "Libraries imported.\n"
     ]
    }
   ],
   "source": [
    "import numpy as np # library to handle data in a vectorized manner\n",
    "\n",
    "import pandas as pd # library for data analsysis\n",
    "pd.set_option('display.max_columns', None)\n",
    "pd.set_option('display.max_rows', None)\n",
    "\n",
    "import json # library to handle JSON files\n",
    "\n",
    "#!conda install -c conda-forge geopy --yes # uncomment this line if you haven't completed the Foursquare API lab\n",
    "from geopy.geocoders import Nominatim # convert an address into latitude and longitude values\n",
    "#from pygeocoder import Geocoder\n",
    "\n",
    "#pip install reverse_geocoder\n",
    "#pip install pprint\n",
    "\n",
    "#!conda install reverse_geocoder\n",
    "#!conda install pprint\n",
    "\n",
    "import requests # library to handle requests\n",
    "from pandas.io.json import json_normalize # tranform JSON file into a pandas dataframe\n",
    "\n",
    "#Mathematical Functions\n",
    "from math import radians, cos, sin, asin, sqrt, atan2, degrees\n",
    "\n",
    "from bs4 import BeautifulSoup\n",
    "\n",
    "# Matplotlib and associated plotting modules\n",
    "import matplotlib.cm as cm\n",
    "import matplotlib.colors as colors\n",
    "\n",
    "# import k-means from clustering stage\n",
    "from sklearn.cluster import KMeans\n",
    "\n",
    "#!conda install -c conda-forge folium=0.5.0 --yes # uncomment this line if you haven't completed the Foursquare API lab\n",
    "import folium # map rendering library\n",
    "\n",
    "\n",
    "\n",
    "print('Libraries imported.')"
   ]
  },
  {
   "cell_type": "markdown",
   "metadata": {},
   "source": [
    "<h2>Data Acquisition and Data Cleaning</h2>"
   ]
  },
  {
   "cell_type": "markdown",
   "metadata": {},
   "source": [
    "<b>Get the neighborhoods of Hong Kong and their coordinates.</b>"
   ]
  },
  {
   "cell_type": "code",
   "execution_count": 2,
   "metadata": {},
   "outputs": [],
   "source": [
    "url = requests.get('https://www.geodatos.net/en/coordinates/hong-kong').text\n",
    "soup = BeautifulSoup(url,'lxml')"
   ]
  },
  {
   "cell_type": "code",
   "execution_count": 3,
   "metadata": {},
   "outputs": [],
   "source": [
    "#Filter Out Required Table\n",
    "My_table = soup.find('div',{'class':'col-md-12 panel-body overflowauto'})\n",
    "#Fetch out table body\n",
    "My_table = My_table.find('tbody')\n",
    "#Intialise lists\n",
    "city_list = []\n",
    "coordinate_list = []\n",
    "#Fetch out city names and their respectice coordinates and store them in lists\n",
    "for row in My_table.findAll('tr'):\n",
    "    city_list.append(row.find('td').text.strip())\n",
    "    coordinate_list.append(row.find('a').text.strip())"
   ]
  },
  {
   "cell_type": "markdown",
   "metadata": {},
   "source": [
    "<b>Store them into dataframe.</b>"
   ]
  },
  {
   "cell_type": "code",
   "execution_count": 4,
   "metadata": {},
   "outputs": [
    {
     "data": {
      "text/html": [
       "<div>\n",
       "<style scoped>\n",
       "    .dataframe tbody tr th:only-of-type {\n",
       "        vertical-align: middle;\n",
       "    }\n",
       "\n",
       "    .dataframe tbody tr th {\n",
       "        vertical-align: top;\n",
       "    }\n",
       "\n",
       "    .dataframe thead th {\n",
       "        text-align: right;\n",
       "    }\n",
       "</style>\n",
       "<table border=\"1\" class=\"dataframe\">\n",
       "  <thead>\n",
       "    <tr style=\"text-align: right;\">\n",
       "      <th></th>\n",
       "      <th>City</th>\n",
       "      <th>Coordinates</th>\n",
       "    </tr>\n",
       "  </thead>\n",
       "  <tbody>\n",
       "    <tr>\n",
       "      <th>0</th>\n",
       "      <td>Hong Kong</td>\n",
       "      <td>22.2783203, 114.1746902</td>\n",
       "    </tr>\n",
       "    <tr>\n",
       "      <th>1</th>\n",
       "      <td>Kowloon</td>\n",
       "      <td>22.3166695, 114.1833267</td>\n",
       "    </tr>\n",
       "    <tr>\n",
       "      <th>2</th>\n",
       "      <td>Tsuen Wan</td>\n",
       "      <td>22.3706608, 114.1047897</td>\n",
       "    </tr>\n",
       "    <tr>\n",
       "      <th>3</th>\n",
       "      <td>Yuen Long Kau Hui</td>\n",
       "      <td>22.4500008, 114.0333328</td>\n",
       "    </tr>\n",
       "    <tr>\n",
       "      <th>4</th>\n",
       "      <td>Tung Chung</td>\n",
       "      <td>22.2878304, 113.9424286</td>\n",
       "    </tr>\n",
       "  </tbody>\n",
       "</table>\n",
       "</div>"
      ],
      "text/plain": [
       "                City              Coordinates\n",
       "0          Hong Kong  22.2783203, 114.1746902\n",
       "1            Kowloon  22.3166695, 114.1833267\n",
       "2          Tsuen Wan  22.3706608, 114.1047897\n",
       "3  Yuen Long Kau Hui  22.4500008, 114.0333328\n",
       "4         Tung Chung  22.2878304, 113.9424286"
      ]
     },
     "execution_count": 4,
     "metadata": {},
     "output_type": "execute_result"
    }
   ],
   "source": [
    "hongkong_df = pd.DataFrame(columns = ['City','Coordinates'])\n",
    "hongkong_df = hongkong_df.assign(City = city_list, Coordinates = coordinate_list)\n",
    "hongkong_df.head()"
   ]
  },
  {
   "cell_type": "markdown",
   "metadata": {},
   "source": [
    "<b>We have coordinates in a single column. Let's split into two different columns Latitude aand Longitude.</b>"
   ]
  },
  {
   "cell_type": "code",
   "execution_count": 5,
   "metadata": {},
   "outputs": [
    {
     "name": "stdout",
     "output_type": "stream",
     "text": [
      "['22.2783203', '22.3166695', '22.3706608', '22.4500008', '22.2878304']\n",
      "['114.1746902', '114.1833267', '114.1047897', '114.0333328', '113.9424286']\n"
     ]
    }
   ],
   "source": [
    "Latitude = []\n",
    "Longitude = []\n",
    "for x in hongkong_df['Coordinates']:\n",
    "    x = x.split(', ')\n",
    "    Latitude.append(x[0])\n",
    "    Longitude.append(x[1])\n",
    "print(Latitude[:5])\n",
    "print(Longitude[0:5])"
   ]
  },
  {
   "cell_type": "code",
   "execution_count": 6,
   "metadata": {},
   "outputs": [],
   "source": [
    "hongkong_df = hongkong_df.assign(Latitude = Latitude, Longitude = Longitude)"
   ]
  },
  {
   "cell_type": "code",
   "execution_count": 7,
   "metadata": {},
   "outputs": [
    {
     "data": {
      "text/html": [
       "<div>\n",
       "<style scoped>\n",
       "    .dataframe tbody tr th:only-of-type {\n",
       "        vertical-align: middle;\n",
       "    }\n",
       "\n",
       "    .dataframe tbody tr th {\n",
       "        vertical-align: top;\n",
       "    }\n",
       "\n",
       "    .dataframe thead th {\n",
       "        text-align: right;\n",
       "    }\n",
       "</style>\n",
       "<table border=\"1\" class=\"dataframe\">\n",
       "  <thead>\n",
       "    <tr style=\"text-align: right;\">\n",
       "      <th></th>\n",
       "      <th>City</th>\n",
       "      <th>Coordinates</th>\n",
       "      <th>Latitude</th>\n",
       "      <th>Longitude</th>\n",
       "    </tr>\n",
       "  </thead>\n",
       "  <tbody>\n",
       "    <tr>\n",
       "      <th>0</th>\n",
       "      <td>Hong Kong</td>\n",
       "      <td>22.2783203, 114.1746902</td>\n",
       "      <td>22.2783203</td>\n",
       "      <td>114.1746902</td>\n",
       "    </tr>\n",
       "    <tr>\n",
       "      <th>1</th>\n",
       "      <td>Kowloon</td>\n",
       "      <td>22.3166695, 114.1833267</td>\n",
       "      <td>22.3166695</td>\n",
       "      <td>114.1833267</td>\n",
       "    </tr>\n",
       "    <tr>\n",
       "      <th>2</th>\n",
       "      <td>Tsuen Wan</td>\n",
       "      <td>22.3706608, 114.1047897</td>\n",
       "      <td>22.3706608</td>\n",
       "      <td>114.1047897</td>\n",
       "    </tr>\n",
       "    <tr>\n",
       "      <th>3</th>\n",
       "      <td>Yuen Long Kau Hui</td>\n",
       "      <td>22.4500008, 114.0333328</td>\n",
       "      <td>22.4500008</td>\n",
       "      <td>114.0333328</td>\n",
       "    </tr>\n",
       "    <tr>\n",
       "      <th>4</th>\n",
       "      <td>Tung Chung</td>\n",
       "      <td>22.2878304, 113.9424286</td>\n",
       "      <td>22.2878304</td>\n",
       "      <td>113.9424286</td>\n",
       "    </tr>\n",
       "  </tbody>\n",
       "</table>\n",
       "</div>"
      ],
      "text/plain": [
       "                City              Coordinates    Latitude    Longitude\n",
       "0          Hong Kong  22.2783203, 114.1746902  22.2783203  114.1746902\n",
       "1            Kowloon  22.3166695, 114.1833267  22.3166695  114.1833267\n",
       "2          Tsuen Wan  22.3706608, 114.1047897  22.3706608  114.1047897\n",
       "3  Yuen Long Kau Hui  22.4500008, 114.0333328  22.4500008  114.0333328\n",
       "4         Tung Chung  22.2878304, 113.9424286  22.2878304  113.9424286"
      ]
     },
     "execution_count": 7,
     "metadata": {},
     "output_type": "execute_result"
    }
   ],
   "source": [
    "hongkong_df.head()"
   ]
  },
  {
   "cell_type": "markdown",
   "metadata": {},
   "source": [
    "<b>Get rid of Coordinates column.</b>"
   ]
  },
  {
   "cell_type": "code",
   "execution_count": 7,
   "metadata": {},
   "outputs": [],
   "source": [
    "hongkong_df.drop('Coordinates', axis = 1, inplace =True)"
   ]
  },
  {
   "cell_type": "code",
   "execution_count": 8,
   "metadata": {},
   "outputs": [
    {
     "data": {
      "text/html": [
       "<div>\n",
       "<style scoped>\n",
       "    .dataframe tbody tr th:only-of-type {\n",
       "        vertical-align: middle;\n",
       "    }\n",
       "\n",
       "    .dataframe tbody tr th {\n",
       "        vertical-align: top;\n",
       "    }\n",
       "\n",
       "    .dataframe thead th {\n",
       "        text-align: right;\n",
       "    }\n",
       "</style>\n",
       "<table border=\"1\" class=\"dataframe\">\n",
       "  <thead>\n",
       "    <tr style=\"text-align: right;\">\n",
       "      <th></th>\n",
       "      <th>City</th>\n",
       "      <th>Latitude</th>\n",
       "      <th>Longitude</th>\n",
       "    </tr>\n",
       "  </thead>\n",
       "  <tbody>\n",
       "    <tr>\n",
       "      <th>0</th>\n",
       "      <td>Hong Kong</td>\n",
       "      <td>22.2783203</td>\n",
       "      <td>114.1746902</td>\n",
       "    </tr>\n",
       "    <tr>\n",
       "      <th>1</th>\n",
       "      <td>Kowloon</td>\n",
       "      <td>22.3166695</td>\n",
       "      <td>114.1833267</td>\n",
       "    </tr>\n",
       "    <tr>\n",
       "      <th>2</th>\n",
       "      <td>Tsuen Wan</td>\n",
       "      <td>22.3706608</td>\n",
       "      <td>114.1047897</td>\n",
       "    </tr>\n",
       "    <tr>\n",
       "      <th>3</th>\n",
       "      <td>Yuen Long Kau Hui</td>\n",
       "      <td>22.4500008</td>\n",
       "      <td>114.0333328</td>\n",
       "    </tr>\n",
       "    <tr>\n",
       "      <th>4</th>\n",
       "      <td>Tung Chung</td>\n",
       "      <td>22.2878304</td>\n",
       "      <td>113.9424286</td>\n",
       "    </tr>\n",
       "  </tbody>\n",
       "</table>\n",
       "</div>"
      ],
      "text/plain": [
       "                City    Latitude    Longitude\n",
       "0          Hong Kong  22.2783203  114.1746902\n",
       "1            Kowloon  22.3166695  114.1833267\n",
       "2          Tsuen Wan  22.3706608  114.1047897\n",
       "3  Yuen Long Kau Hui  22.4500008  114.0333328\n",
       "4         Tung Chung  22.2878304  113.9424286"
      ]
     },
     "execution_count": 8,
     "metadata": {},
     "output_type": "execute_result"
    }
   ],
   "source": [
    "hongkong_df.head()"
   ]
  },
  {
   "cell_type": "code",
   "execution_count": 10,
   "metadata": {},
   "outputs": [
    {
     "data": {
      "text/plain": [
       "City         object\n",
       "Latitude     object\n",
       "Longitude    object\n",
       "dtype: object"
      ]
     },
     "execution_count": 10,
     "metadata": {},
     "output_type": "execute_result"
    }
   ],
   "source": [
    "hongkong_df.dtypes"
   ]
  },
  {
   "cell_type": "markdown",
   "metadata": {},
   "source": [
    "<b>But Latitude and Longitude columns are objects, we need to convert them into float.</b>"
   ]
  },
  {
   "cell_type": "code",
   "execution_count": 9,
   "metadata": {},
   "outputs": [],
   "source": [
    "hongkong_df['Latitude'] =pd.to_numeric(hongkong_df['Latitude'])\n",
    "hongkong_df['Longitude'] =pd.to_numeric(hongkong_df['Longitude'])"
   ]
  },
  {
   "cell_type": "code",
   "execution_count": 11,
   "metadata": {},
   "outputs": [
    {
     "data": {
      "text/plain": [
       "City          object\n",
       "Latitude     float64\n",
       "Longitude    float64\n",
       "dtype: object"
      ]
     },
     "execution_count": 11,
     "metadata": {},
     "output_type": "execute_result"
    }
   ],
   "source": [
    "hongkong_df.dtypes"
   ]
  },
  {
   "cell_type": "markdown",
   "metadata": {},
   "source": [
    "<b>Get Coordinates of Hong Kong using geopy.</b>"
   ]
  },
  {
   "cell_type": "code",
   "execution_count": 10,
   "metadata": {},
   "outputs": [
    {
     "name": "stdout",
     "output_type": "stream",
     "text": [
      "The geograpical coordinate of Hong Kong are 22.30742895, 113.917059658642.\n"
     ]
    }
   ],
   "source": [
    "address = 'HONG KONG, HKG'\n",
    "\n",
    "geolocator = Nominatim(user_agent=\"ny_explorer\")\n",
    "location = geolocator.geocode(address)\n",
    "latitude = location.latitude\n",
    "longitude = location.longitude\n",
    "print('The geograpical coordinate of Hong Kong are {}, {}.'.format(latitude, longitude))"
   ]
  },
  {
   "cell_type": "markdown",
   "metadata": {},
   "source": [
    "<b>Let's visualize the neighborhoods of Hong Kong</b>"
   ]
  },
  {
   "cell_type": "code",
   "execution_count": 11,
   "metadata": {},
   "outputs": [
    {
     "data": {
      "text/html": [
       "<div style=\"width:100%;\"><div style=\"position:relative;width:100%;height:0;padding-bottom:60%;\"><iframe src=\"data:text/html;charset=utf-8;base64,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\" style=\"position:absolute;width:100%;height:100%;left:0;top:0;border:none !important;\" allowfullscreen webkitallowfullscreen mozallowfullscreen></iframe></div></div>"
      ],
      "text/plain": [
       "<folium.folium.Map at 0x7f4e297f2e80>"
      ]
     },
     "execution_count": 11,
     "metadata": {},
     "output_type": "execute_result"
    }
   ],
   "source": [
    "map_hongkong = folium.Map(location=[latitude, longitude], zoom_start=10)\n",
    "\n",
    "# add markers to map\n",
    "for lat, lng, city in zip(hongkong_df['Latitude'], hongkong_df['Longitude'], hongkong_df['City']):\n",
    "    label = '{}'.format(city)\n",
    "    label = folium.Popup(label, parse_html=True)\n",
    "    folium.CircleMarker(\n",
    "        [lat, lng],\n",
    "        radius=5,\n",
    "        popup=label,\n",
    "        color='blue',\n",
    "        fill=True,\n",
    "        fill_color='#3186cc',\n",
    "        fill_opacity=0.7,\n",
    "        parse_html=False).add_to(map_hongkong)  \n",
    "    \n",
    "map_hongkong"
   ]
  },
  {
   "cell_type": "markdown",
   "metadata": {},
   "source": [
    "<h2>Analysis boroughs of Hong Kong</h2>"
   ]
  },
  {
   "cell_type": "markdown",
   "metadata": {},
   "source": [
    "<b>Define Foursquare Credentials.</b>"
   ]
  },
  {
   "cell_type": "markdown",
   "metadata": {},
   "source": [
    "<b>Sorry, these credentials are deliberately not being shown because of security reasons.</b>"
   ]
  },
  {
   "cell_type": "code",
   "execution_count": 100,
   "metadata": {},
   "outputs": [
    {
     "name": "stdout",
     "output_type": "stream",
     "text": [
      "Your credentails:\n",
      "CLIENT_ID: XXXXXXXXXXXXXXXXXXXXXXXXXXXXXXXXXXXXXXXXXXXXXXXXXX\n",
      "CLIENT_SECRET:XXXXXXXXXXXXXXXXXXXXXXXXXXXXXXXXXXXXXXXXXXXXXXXX\n"
     ]
    }
   ],
   "source": [
    "CLIENT_ID = 'XXXXXXXXXXXXXXXXXXXXXXXXXXXXXXXXXXXXXXXXXXXXXXXXXX' #Foursquare ID\n",
    "CLIENT_SECRET = 'XXXXXXXXXXXXXXXXXXXXXXXXXXXXXXXXXXXXXXXXXXXXXXXX' #Foursquare Secret\n",
    "VERSION = '20180605' # Foursquare API version\n",
    "\n",
    "print('Your credentails:')\n",
    "print('CLIENT_ID: ' + CLIENT_ID)\n",
    "print('CLIENT_SECRET:' + CLIENT_SECRET)"
   ]
  },
  {
   "cell_type": "markdown",
   "metadata": {},
   "source": [
    "<b>Function for exploring venues of all the neighbourhoods.</b>"
   ]
  },
  {
   "cell_type": "code",
   "execution_count": 13,
   "metadata": {},
   "outputs": [],
   "source": [
    "def getNearbyVenues(categoryid, names, latitudes, longitudes, radius=500):\n",
    "    \n",
    "    LIMIT = 100\n",
    "    venues_list=[]\n",
    "    category = categoryid    \n",
    "    for name, lat, lng in zip(names, latitudes, longitudes):\n",
    "        print(name)\n",
    "            \n",
    "        # create the API request URL\n",
    "        if(category == ''):\n",
    "            url = 'https://api.foursquare.com/v2/venues/explore?&client_id={}&client_secret={}&v={}&ll={},{}&radius={}&limit={}'.format(\n",
    "              CLIENT_ID, \n",
    "            CLIENT_SECRET, \n",
    "            VERSION, \n",
    "            lat, \n",
    "            lng, \n",
    "            radius, \n",
    "            LIMIT)\n",
    "        else:\n",
    "            url = 'https://api.foursquare.com/v2/venues/explore?client_id={}&client_secret={}&v={}&ll={},{}&categoryId={}&radius={}&limit={}'.format(\n",
    "           CLIENT_ID, \n",
    "            CLIENT_SECRET, \n",
    "            VERSION, \n",
    "            lat, \n",
    "            lng, \n",
    "            category,\n",
    "            radius, \n",
    "            LIMIT)\n",
    "            \n",
    "        # make the GET request\n",
    "        results = requests.get(url).json()[\"response\"]['groups'][0]['items']\n",
    "        \n",
    "        # return only relevant information for each nearby venue\n",
    "        venues_list.append([(\n",
    "            name, \n",
    "            lat, \n",
    "            lng, \n",
    "            v['venue']['name'], \n",
    "            v['venue']['location']['lat'], \n",
    "            v['venue']['location']['lng'],  \n",
    "            v['venue']['categories'][0]['name']) for v in results])\n",
    "\n",
    "    nearby_venues = pd.DataFrame([item for venue_list in venues_list for item in venue_list])\n",
    "    nearby_venues.columns = ['Neighbourhood', \n",
    "                  'Neighbourhood Latitude', \n",
    "                  'Neighbourhood Longitude', \n",
    "                  'Venue', \n",
    "                  'Venue Latitude', \n",
    "                  'Venue Longitude', \n",
    "                  'Venue Category']\n",
    "    \n",
    "    return(nearby_venues)"
   ]
  },
  {
   "cell_type": "markdown",
   "metadata": {},
   "source": [
    "<b>Use the above function to check out nearby food venues.</b>"
   ]
  },
  {
   "cell_type": "code",
   "execution_count": 14,
   "metadata": {},
   "outputs": [
    {
     "name": "stdout",
     "output_type": "stream",
     "text": [
      "Hong Kong\n",
      "Kowloon\n",
      "Tsuen Wan\n",
      "Yuen Long Kau Hui\n",
      "Tung Chung\n",
      "Sha Tin\n",
      "Tuen Mun\n",
      "Tai Po\n",
      "Sai Kung\n",
      "Yung Shue Wan\n",
      "Ngong Ping\n",
      "Sok Kwu Wan\n",
      "Tai O\n",
      "Wong Tai Sin\n",
      "Wan Chai\n",
      "Sham Shui Po\n",
      "Central\n",
      "(449, 7)\n"
     ]
    }
   ],
   "source": [
    "hongkong_venues = getNearbyVenues(categoryid ='4d4b7105d754a06374d81259',\n",
    "                                  names = hongkong_df['City'],\n",
    "                                   latitudes = hongkong_df['Latitude'],\n",
    "                                   longitudes = hongkong_df['Longitude'])\n",
    "print(hongkong_venues.shape)"
   ]
  },
  {
   "cell_type": "code",
   "execution_count": 15,
   "metadata": {},
   "outputs": [
    {
     "data": {
      "text/html": [
       "<div>\n",
       "<style scoped>\n",
       "    .dataframe tbody tr th:only-of-type {\n",
       "        vertical-align: middle;\n",
       "    }\n",
       "\n",
       "    .dataframe tbody tr th {\n",
       "        vertical-align: top;\n",
       "    }\n",
       "\n",
       "    .dataframe thead th {\n",
       "        text-align: right;\n",
       "    }\n",
       "</style>\n",
       "<table border=\"1\" class=\"dataframe\">\n",
       "  <thead>\n",
       "    <tr style=\"text-align: right;\">\n",
       "      <th></th>\n",
       "      <th>Neighbourhood</th>\n",
       "      <th>Neighbourhood Latitude</th>\n",
       "      <th>Neighbourhood Longitude</th>\n",
       "      <th>Venue</th>\n",
       "      <th>Venue Latitude</th>\n",
       "      <th>Venue Longitude</th>\n",
       "      <th>Venue Category</th>\n",
       "    </tr>\n",
       "  </thead>\n",
       "  <tbody>\n",
       "    <tr>\n",
       "      <th>0</th>\n",
       "      <td>Hong Kong</td>\n",
       "      <td>22.27832</td>\n",
       "      <td>114.17469</td>\n",
       "      <td>Zahrabel</td>\n",
       "      <td>22.278194</td>\n",
       "      <td>114.175912</td>\n",
       "      <td>Middle Eastern Restaurant</td>\n",
       "    </tr>\n",
       "    <tr>\n",
       "      <th>1</th>\n",
       "      <td>Hong Kong</td>\n",
       "      <td>22.27832</td>\n",
       "      <td>114.17469</td>\n",
       "      <td>The Optimist</td>\n",
       "      <td>22.278049</td>\n",
       "      <td>114.175854</td>\n",
       "      <td>Spanish Restaurant</td>\n",
       "    </tr>\n",
       "    <tr>\n",
       "      <th>2</th>\n",
       "      <td>Hong Kong</td>\n",
       "      <td>22.27832</td>\n",
       "      <td>114.17469</td>\n",
       "      <td>Kam's Roast Goose (甘牌燒鵝)</td>\n",
       "      <td>22.277647</td>\n",
       "      <td>114.175361</td>\n",
       "      <td>Cantonese Restaurant</td>\n",
       "    </tr>\n",
       "    <tr>\n",
       "      <th>3</th>\n",
       "      <td>Hong Kong</td>\n",
       "      <td>22.27832</td>\n",
       "      <td>114.17469</td>\n",
       "      <td>Seorae (喜來稀肉)</td>\n",
       "      <td>22.278280</td>\n",
       "      <td>114.174143</td>\n",
       "      <td>Korean Restaurant</td>\n",
       "    </tr>\n",
       "    <tr>\n",
       "      <th>4</th>\n",
       "      <td>Hong Kong</td>\n",
       "      <td>22.27832</td>\n",
       "      <td>114.17469</td>\n",
       "      <td>Sang Kee Seafood Restaurant (生記海鮮飯店)</td>\n",
       "      <td>22.277755</td>\n",
       "      <td>114.172093</td>\n",
       "      <td>Seafood Restaurant</td>\n",
       "    </tr>\n",
       "  </tbody>\n",
       "</table>\n",
       "</div>"
      ],
      "text/plain": [
       "  Neighbourhood  Neighbourhood Latitude  Neighbourhood Longitude  \\\n",
       "0     Hong Kong                22.27832                114.17469   \n",
       "1     Hong Kong                22.27832                114.17469   \n",
       "2     Hong Kong                22.27832                114.17469   \n",
       "3     Hong Kong                22.27832                114.17469   \n",
       "4     Hong Kong                22.27832                114.17469   \n",
       "\n",
       "                                  Venue  Venue Latitude  Venue Longitude  \\\n",
       "0                              Zahrabel       22.278194       114.175912   \n",
       "1                          The Optimist       22.278049       114.175854   \n",
       "2              Kam's Roast Goose (甘牌燒鵝)       22.277647       114.175361   \n",
       "3                         Seorae (喜來稀肉)       22.278280       114.174143   \n",
       "4  Sang Kee Seafood Restaurant (生記海鮮飯店)       22.277755       114.172093   \n",
       "\n",
       "              Venue Category  \n",
       "0  Middle Eastern Restaurant  \n",
       "1         Spanish Restaurant  \n",
       "2       Cantonese Restaurant  \n",
       "3          Korean Restaurant  \n",
       "4         Seafood Restaurant  "
      ]
     },
     "execution_count": 15,
     "metadata": {},
     "output_type": "execute_result"
    }
   ],
   "source": [
    "hongkong_venues.head(5)"
   ]
  },
  {
   "cell_type": "code",
   "execution_count": 16,
   "metadata": {},
   "outputs": [
    {
     "name": "stdout",
     "output_type": "stream",
     "text": [
      "There are 68 unique venue categories.\n"
     ]
    }
   ],
   "source": [
    "print('There are {} unique venue categories.'.format(len(hongkong_venues['Venue Category'].unique())))"
   ]
  },
  {
   "cell_type": "code",
   "execution_count": 17,
   "metadata": {},
   "outputs": [
    {
     "data": {
      "text/plain": [
       "Chinese Restaurant               43\n",
       "Café                             27\n",
       "Hong Kong Restaurant             26\n",
       "Japanese Restaurant              26\n",
       "Cantonese Restaurant             22\n",
       "Noodle House                     20\n",
       "Seafood Restaurant               19\n",
       "Italian Restaurant               18\n",
       "Thai Restaurant                  15\n",
       "Sushi Restaurant                 14\n",
       "Bakery                           14\n",
       "Fast Food Restaurant             12\n",
       "Steakhouse                       11\n",
       "Dumpling Restaurant              10\n",
       "Korean Restaurant                10\n",
       "French Restaurant                 8\n",
       "Snack Place                       8\n",
       "Sandwich Place                    8\n",
       "Cha Chaan Teng                    8\n",
       "Restaurant                        7\n",
       "Dim Sum Restaurant                7\n",
       "Shanghai Restaurant               7\n",
       "Vegetarian / Vegan Restaurant     7\n",
       "Indian Restaurant                 7\n",
       "Szechuan Restaurant               6\n",
       "Asian Restaurant                  6\n",
       "Burger Joint                      6\n",
       "Ramen Restaurant                  5\n",
       "Vietnamese Restaurant             5\n",
       "Pizza Place                       5\n",
       "Taiwanese Restaurant              4\n",
       "Middle Eastern Restaurant         4\n",
       "Spanish Restaurant                4\n",
       "BBQ Joint                         4\n",
       "Hotpot Restaurant                 3\n",
       "Deli / Bodega                     3\n",
       "Gastropub                         2\n",
       "Mediterranean Restaurant          2\n",
       "Diner                             2\n",
       "Donburi Restaurant                2\n",
       "Udon Restaurant                   2\n",
       "Beijing Restaurant                2\n",
       "Breakfast Spot                    2\n",
       "Malay Restaurant                  2\n",
       "Greek Restaurant                  1\n",
       "Chinese Breakfast Place           1\n",
       "New American Restaurant           1\n",
       "Buffet                            1\n",
       "Portuguese Restaurant             1\n",
       "Brazilian Restaurant              1\n",
       "Indonesian Restaurant             1\n",
       "Bistro                            1\n",
       "Food Court                        1\n",
       "Turkish Restaurant                1\n",
       "Peruvian Restaurant               1\n",
       "Caribbean Restaurant              1\n",
       "Irish Pub                         1\n",
       "Mexican Restaurant                1\n",
       "Tapas Restaurant                  1\n",
       "Dutch Restaurant                  1\n",
       "Zhejiang Restaurant               1\n",
       "Fried Chicken Joint               1\n",
       "Food Truck                        1\n",
       "Comfort Food Restaurant           1\n",
       "Jiangsu Restaurant                1\n",
       "Pakistani Restaurant              1\n",
       "Argentinian Restaurant            1\n",
       "American Restaurant               1\n",
       "Name: Venue Category, dtype: int64"
      ]
     },
     "execution_count": 17,
     "metadata": {},
     "output_type": "execute_result"
    }
   ],
   "source": [
    "hongkong_venues['Venue Category'].value_counts()"
   ]
  },
  {
   "cell_type": "markdown",
   "metadata": {},
   "source": [
    "The above list gives data regarding various types of restaurants. Though there are a large number of restaurants but fortunately, there  are only 7 vegetarian restaurants. Apart from these restaurants, there are also various other food venues like food points, burger points, cafes etc."
   ]
  },
  {
   "cell_type": "markdown",
   "metadata": {},
   "source": [
    "<b>But we are interested only in restaurants</b>"
   ]
  },
  {
   "cell_type": "code",
   "execution_count": 18,
   "metadata": {},
   "outputs": [],
   "source": [
    "hongkong_restaurants = hongkong_venues[hongkong_venues['Venue Category'].str.contains('Restaurant')]"
   ]
  },
  {
   "cell_type": "code",
   "execution_count": 19,
   "metadata": {},
   "outputs": [
    {
     "data": {
      "text/html": [
       "<div>\n",
       "<style scoped>\n",
       "    .dataframe tbody tr th:only-of-type {\n",
       "        vertical-align: middle;\n",
       "    }\n",
       "\n",
       "    .dataframe tbody tr th {\n",
       "        vertical-align: top;\n",
       "    }\n",
       "\n",
       "    .dataframe thead th {\n",
       "        text-align: right;\n",
       "    }\n",
       "</style>\n",
       "<table border=\"1\" class=\"dataframe\">\n",
       "  <thead>\n",
       "    <tr style=\"text-align: right;\">\n",
       "      <th></th>\n",
       "      <th>Neighbourhood</th>\n",
       "      <th>Neighbourhood Latitude</th>\n",
       "      <th>Neighbourhood Longitude</th>\n",
       "      <th>Venue</th>\n",
       "      <th>Venue Latitude</th>\n",
       "      <th>Venue Longitude</th>\n",
       "      <th>Venue Category</th>\n",
       "    </tr>\n",
       "  </thead>\n",
       "  <tbody>\n",
       "    <tr>\n",
       "      <th>0</th>\n",
       "      <td>Hong Kong</td>\n",
       "      <td>22.27832</td>\n",
       "      <td>114.17469</td>\n",
       "      <td>Zahrabel</td>\n",
       "      <td>22.278194</td>\n",
       "      <td>114.175912</td>\n",
       "      <td>Middle Eastern Restaurant</td>\n",
       "    </tr>\n",
       "    <tr>\n",
       "      <th>1</th>\n",
       "      <td>Hong Kong</td>\n",
       "      <td>22.27832</td>\n",
       "      <td>114.17469</td>\n",
       "      <td>The Optimist</td>\n",
       "      <td>22.278049</td>\n",
       "      <td>114.175854</td>\n",
       "      <td>Spanish Restaurant</td>\n",
       "    </tr>\n",
       "    <tr>\n",
       "      <th>2</th>\n",
       "      <td>Hong Kong</td>\n",
       "      <td>22.27832</td>\n",
       "      <td>114.17469</td>\n",
       "      <td>Kam's Roast Goose (甘牌燒鵝)</td>\n",
       "      <td>22.277647</td>\n",
       "      <td>114.175361</td>\n",
       "      <td>Cantonese Restaurant</td>\n",
       "    </tr>\n",
       "    <tr>\n",
       "      <th>3</th>\n",
       "      <td>Hong Kong</td>\n",
       "      <td>22.27832</td>\n",
       "      <td>114.17469</td>\n",
       "      <td>Seorae (喜來稀肉)</td>\n",
       "      <td>22.278280</td>\n",
       "      <td>114.174143</td>\n",
       "      <td>Korean Restaurant</td>\n",
       "    </tr>\n",
       "    <tr>\n",
       "      <th>4</th>\n",
       "      <td>Hong Kong</td>\n",
       "      <td>22.27832</td>\n",
       "      <td>114.17469</td>\n",
       "      <td>Sang Kee Seafood Restaurant (生記海鮮飯店)</td>\n",
       "      <td>22.277755</td>\n",
       "      <td>114.172093</td>\n",
       "      <td>Seafood Restaurant</td>\n",
       "    </tr>\n",
       "  </tbody>\n",
       "</table>\n",
       "</div>"
      ],
      "text/plain": [
       "  Neighbourhood  Neighbourhood Latitude  Neighbourhood Longitude  \\\n",
       "0     Hong Kong                22.27832                114.17469   \n",
       "1     Hong Kong                22.27832                114.17469   \n",
       "2     Hong Kong                22.27832                114.17469   \n",
       "3     Hong Kong                22.27832                114.17469   \n",
       "4     Hong Kong                22.27832                114.17469   \n",
       "\n",
       "                                  Venue  Venue Latitude  Venue Longitude  \\\n",
       "0                              Zahrabel       22.278194       114.175912   \n",
       "1                          The Optimist       22.278049       114.175854   \n",
       "2              Kam's Roast Goose (甘牌燒鵝)       22.277647       114.175361   \n",
       "3                         Seorae (喜來稀肉)       22.278280       114.174143   \n",
       "4  Sang Kee Seafood Restaurant (生記海鮮飯店)       22.277755       114.172093   \n",
       "\n",
       "              Venue Category  \n",
       "0  Middle Eastern Restaurant  \n",
       "1         Spanish Restaurant  \n",
       "2       Cantonese Restaurant  \n",
       "3          Korean Restaurant  \n",
       "4         Seafood Restaurant  "
      ]
     },
     "execution_count": 19,
     "metadata": {},
     "output_type": "execute_result"
    }
   ],
   "source": [
    "hongkong_restaurants.head()"
   ]
  },
  {
   "cell_type": "code",
   "execution_count": 20,
   "metadata": {},
   "outputs": [
    {
     "data": {
      "text/plain": [
       "(322, 7)"
      ]
     },
     "execution_count": 20,
     "metadata": {},
     "output_type": "execute_result"
    }
   ],
   "source": [
    "hongkong_restaurants.shape"
   ]
  },
  {
   "cell_type": "markdown",
   "metadata": {},
   "source": [
    "So let's first visulaise these restaurants"
   ]
  },
  {
   "cell_type": "code",
   "execution_count": 21,
   "metadata": {},
   "outputs": [
    {
     "data": {
      "text/html": [
       "<div style=\"width:100%;\"><div style=\"position:relative;width:100%;height:0;padding-bottom:60%;\"><iframe src=\"data:text/html;charset=utf-8;base64,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\" style=\"position:absolute;width:100%;height:100%;left:0;top:0;border:none !important;\" allowfullscreen webkitallowfullscreen mozallowfullscreen></iframe></div></div>"
      ],
      "text/plain": [
       "<folium.folium.Map at 0x7f4e297533c8>"
      ]
     },
     "execution_count": 21,
     "metadata": {},
     "output_type": "execute_result"
    }
   ],
   "source": [
    "map_rest = folium.Map(location=[latitude, longitude], zoom_start=10)\n",
    "folium.TileLayer('cartodbpositron').add_to(map_rest)\n",
    "\n",
    "# add markers to map\n",
    "for lat, lng, ven in zip(hongkong_restaurants['Venue Latitude'], hongkong_restaurants['Venue Longitude'], \n",
    "                          hongkong_restaurants['Venue']):\n",
    "    label = '{}'.format(ven)\n",
    "    label = folium.Popup(label, parse_html=True)\n",
    "    folium.CircleMarker(\n",
    "        [lat, lng],\n",
    "        radius=5,\n",
    "        popup=label,\n",
    "        color='blue',\n",
    "        fill=True,\n",
    "        fill_color='#3186cc',\n",
    "        fill_opacity=0.7,\n",
    "        parse_html=False).add_to(map_rest)  \n",
    "    \n",
    "map_rest"
   ]
  },
  {
   "cell_type": "markdown",
   "metadata": {},
   "source": [
    "The above map makes it clear that the restaurants are tightly packed in each neighborhood. It's most probably because other regions are not that suitable. So,we need to locate those regions which are not farther from central point as well as close to some scenic spot."
   ]
  },
  {
   "cell_type": "markdown",
   "metadata": {},
   "source": [
    "<h3>Exploratory Analysis</h3>"
   ]
  },
  {
   "cell_type": "markdown",
   "metadata": {},
   "source": [
    "Let's see the distribution of these restaurants in variors neighborhoods first."
   ]
  },
  {
   "cell_type": "code",
   "execution_count": 22,
   "metadata": {},
   "outputs": [
    {
     "data": {
      "text/plain": [
       "Hong Kong            76\n",
       "Central              66\n",
       "Tai Po               38\n",
       "Tung Chung           30\n",
       "Sham Shui Po         22\n",
       "Wan Chai             18\n",
       "Yung Shue Wan        11\n",
       "Tsuen Wan            10\n",
       "Kowloon              10\n",
       "Tai O                 9\n",
       "Sok Kwu Wan           9\n",
       "Ngong Ping            7\n",
       "Tuen Mun              6\n",
       "Sha Tin               5\n",
       "Sai Kung              3\n",
       "Yuen Long Kau Hui     1\n",
       "Wong Tai Sin          1\n",
       "Name: Neighbourhood, dtype: int64"
      ]
     },
     "execution_count": 22,
     "metadata": {},
     "output_type": "execute_result"
    }
   ],
   "source": [
    "hongkong_restaurants['Neighbourhood'].value_counts()"
   ]
  },
  {
   "cell_type": "markdown",
   "metadata": {},
   "source": [
    "We can see that Hong Kong and Central have way larger number of restaurantsmost of the neighborhoods have very less number of restaurants. While . So, opening up a restaurant in these areas should not be a big issue. We will emphasize our analysis to only those neighborhoods where number of restaurants is more than total average number of locations. "
   ]
  },
  {
   "cell_type": "markdown",
   "metadata": {},
   "source": [
    "<b>So get rid of all those neighborhoods where number of restaurants is less than 20.</b>"
   ]
  },
  {
   "cell_type": "code",
   "execution_count": 23,
   "metadata": {},
   "outputs": [],
   "source": [
    "values = hongkong_restaurants['Neighbourhood'].value_counts().keys().tolist()\n",
    "counts = hongkong_restaurants['Neighbourhood'].value_counts().tolist()\n",
    "dicto = dict(zip(values,counts))"
   ]
  },
  {
   "cell_type": "code",
   "execution_count": 24,
   "metadata": {},
   "outputs": [],
   "source": [
    "hongkong_restaurants_sp = hongkong_restaurants.copy()"
   ]
  },
  {
   "cell_type": "code",
   "execution_count": 25,
   "metadata": {},
   "outputs": [],
   "source": [
    "for x in dicto:\n",
    "    if dicto.get(x) < 20:\n",
    "        hongkong_restaurants_sp.drop(hongkong_restaurants_sp[hongkong_restaurants_sp.Neighbourhood == x].index, inplace =True)    "
   ]
  },
  {
   "cell_type": "code",
   "execution_count": 26,
   "metadata": {},
   "outputs": [],
   "source": [
    "hongkong_restaurants_sp = hongkong_restaurants_sp.reset_index(drop = True)"
   ]
  },
  {
   "cell_type": "code",
   "execution_count": 27,
   "metadata": {},
   "outputs": [
    {
     "data": {
      "text/plain": [
       "Hong Kong       76\n",
       "Central         66\n",
       "Tai Po          38\n",
       "Tung Chung      30\n",
       "Sham Shui Po    22\n",
       "Name: Neighbourhood, dtype: int64"
      ]
     },
     "execution_count": 27,
     "metadata": {},
     "output_type": "execute_result"
    }
   ],
   "source": [
    "hongkong_restaurants_sp['Neighbourhood'].value_counts()"
   ]
  },
  {
   "cell_type": "code",
   "execution_count": 28,
   "metadata": {},
   "outputs": [
    {
     "data": {
      "text/plain": [
       "(232, 7)"
      ]
     },
     "execution_count": 28,
     "metadata": {},
     "output_type": "execute_result"
    }
   ],
   "source": [
    "hongkong_restaurants_sp.shape"
   ]
  },
  {
   "cell_type": "code",
   "execution_count": 29,
   "metadata": {},
   "outputs": [
    {
     "data": {
      "text/html": [
       "<div>\n",
       "<style scoped>\n",
       "    .dataframe tbody tr th:only-of-type {\n",
       "        vertical-align: middle;\n",
       "    }\n",
       "\n",
       "    .dataframe tbody tr th {\n",
       "        vertical-align: top;\n",
       "    }\n",
       "\n",
       "    .dataframe thead th {\n",
       "        text-align: right;\n",
       "    }\n",
       "</style>\n",
       "<table border=\"1\" class=\"dataframe\">\n",
       "  <thead>\n",
       "    <tr style=\"text-align: right;\">\n",
       "      <th></th>\n",
       "      <th>Neighbourhood</th>\n",
       "      <th>Neighbourhood Latitude</th>\n",
       "      <th>Neighbourhood Longitude</th>\n",
       "      <th>Venue</th>\n",
       "      <th>Venue Latitude</th>\n",
       "      <th>Venue Longitude</th>\n",
       "      <th>Venue Category</th>\n",
       "    </tr>\n",
       "  </thead>\n",
       "  <tbody>\n",
       "    <tr>\n",
       "      <th>0</th>\n",
       "      <td>Hong Kong</td>\n",
       "      <td>22.27832</td>\n",
       "      <td>114.17469</td>\n",
       "      <td>Zahrabel</td>\n",
       "      <td>22.278194</td>\n",
       "      <td>114.175912</td>\n",
       "      <td>Middle Eastern Restaurant</td>\n",
       "    </tr>\n",
       "    <tr>\n",
       "      <th>1</th>\n",
       "      <td>Hong Kong</td>\n",
       "      <td>22.27832</td>\n",
       "      <td>114.17469</td>\n",
       "      <td>The Optimist</td>\n",
       "      <td>22.278049</td>\n",
       "      <td>114.175854</td>\n",
       "      <td>Spanish Restaurant</td>\n",
       "    </tr>\n",
       "    <tr>\n",
       "      <th>2</th>\n",
       "      <td>Hong Kong</td>\n",
       "      <td>22.27832</td>\n",
       "      <td>114.17469</td>\n",
       "      <td>Kam's Roast Goose (甘牌燒鵝)</td>\n",
       "      <td>22.277647</td>\n",
       "      <td>114.175361</td>\n",
       "      <td>Cantonese Restaurant</td>\n",
       "    </tr>\n",
       "    <tr>\n",
       "      <th>3</th>\n",
       "      <td>Hong Kong</td>\n",
       "      <td>22.27832</td>\n",
       "      <td>114.17469</td>\n",
       "      <td>Seorae (喜來稀肉)</td>\n",
       "      <td>22.278280</td>\n",
       "      <td>114.174143</td>\n",
       "      <td>Korean Restaurant</td>\n",
       "    </tr>\n",
       "    <tr>\n",
       "      <th>4</th>\n",
       "      <td>Hong Kong</td>\n",
       "      <td>22.27832</td>\n",
       "      <td>114.17469</td>\n",
       "      <td>Sang Kee Seafood Restaurant (生記海鮮飯店)</td>\n",
       "      <td>22.277755</td>\n",
       "      <td>114.172093</td>\n",
       "      <td>Seafood Restaurant</td>\n",
       "    </tr>\n",
       "  </tbody>\n",
       "</table>\n",
       "</div>"
      ],
      "text/plain": [
       "  Neighbourhood  Neighbourhood Latitude  Neighbourhood Longitude  \\\n",
       "0     Hong Kong                22.27832                114.17469   \n",
       "1     Hong Kong                22.27832                114.17469   \n",
       "2     Hong Kong                22.27832                114.17469   \n",
       "3     Hong Kong                22.27832                114.17469   \n",
       "4     Hong Kong                22.27832                114.17469   \n",
       "\n",
       "                                  Venue  Venue Latitude  Venue Longitude  \\\n",
       "0                              Zahrabel       22.278194       114.175912   \n",
       "1                          The Optimist       22.278049       114.175854   \n",
       "2              Kam's Roast Goose (甘牌燒鵝)       22.277647       114.175361   \n",
       "3                         Seorae (喜來稀肉)       22.278280       114.174143   \n",
       "4  Sang Kee Seafood Restaurant (生記海鮮飯店)       22.277755       114.172093   \n",
       "\n",
       "              Venue Category  \n",
       "0  Middle Eastern Restaurant  \n",
       "1         Spanish Restaurant  \n",
       "2       Cantonese Restaurant  \n",
       "3          Korean Restaurant  \n",
       "4         Seafood Restaurant  "
      ]
     },
     "execution_count": 29,
     "metadata": {},
     "output_type": "execute_result"
    }
   ],
   "source": [
    "hongkong_restaurants_sp.head()"
   ]
  },
  {
   "cell_type": "markdown",
   "metadata": {},
   "source": [
    "<b>Function for calculating distance between two points.</b>"
   ]
  },
  {
   "cell_type": "code",
   "execution_count": 30,
   "metadata": {},
   "outputs": [],
   "source": [
    "def calcdistance(lat1, long1, lat2, long2):\n",
    "    # convert decimal degrees to radians \n",
    "    lat1, long1, lat2, long2 = map(radians, [lat1, long1, lat2, long2])\n",
    "    # haversine formula \n",
    "    dlong = long2 - long1 \n",
    "    dlat = lat2 - lat1 \n",
    "    a = sin(dlat/2)**2 + cos(lat1) * cos(lat2) * sin(dlong/2)**2\n",
    "    c = 2 * asin(sqrt(a)) \n",
    "    # Mutliply with the Radius of earth ie 6371 km\n",
    "    d = 6371* c\n",
    "    # Convert it into meters and Round off the result\n",
    "    d = round(d * 1000)\n",
    "    return d"
   ]
  },
  {
   "cell_type": "code",
   "execution_count": 31,
   "metadata": {},
   "outputs": [],
   "source": [
    "Focaldistance = []\n",
    "l = hongkong_restaurants_sp['Venue'].size\n",
    "for i in range(hongkong_restaurants_sp['Venue'].size):\n",
    "    d = calcdistance(hongkong_restaurants_sp['Neighbourhood Latitude'][i], \n",
    "                     hongkong_restaurants_sp['Neighbourhood Longitude'][i],\n",
    "                     hongkong_restaurants_sp['Venue Latitude'][i], \n",
    "                     hongkong_restaurants_sp['Venue Longitude'][i])\n",
    "    Focaldistance.append(d)"
   ]
  },
  {
   "cell_type": "code",
   "execution_count": 32,
   "metadata": {},
   "outputs": [],
   "source": [
    "hongkong_restaurants_sp['Distance From Focus'] = Focaldistance"
   ]
  },
  {
   "cell_type": "code",
   "execution_count": 33,
   "metadata": {},
   "outputs": [
    {
     "data": {
      "text/html": [
       "<div>\n",
       "<style scoped>\n",
       "    .dataframe tbody tr th:only-of-type {\n",
       "        vertical-align: middle;\n",
       "    }\n",
       "\n",
       "    .dataframe tbody tr th {\n",
       "        vertical-align: top;\n",
       "    }\n",
       "\n",
       "    .dataframe thead th {\n",
       "        text-align: right;\n",
       "    }\n",
       "</style>\n",
       "<table border=\"1\" class=\"dataframe\">\n",
       "  <thead>\n",
       "    <tr style=\"text-align: right;\">\n",
       "      <th></th>\n",
       "      <th>Neighbourhood</th>\n",
       "      <th>Neighbourhood Latitude</th>\n",
       "      <th>Neighbourhood Longitude</th>\n",
       "      <th>Venue</th>\n",
       "      <th>Venue Latitude</th>\n",
       "      <th>Venue Longitude</th>\n",
       "      <th>Venue Category</th>\n",
       "      <th>Distance From Focus</th>\n",
       "    </tr>\n",
       "  </thead>\n",
       "  <tbody>\n",
       "    <tr>\n",
       "      <th>0</th>\n",
       "      <td>Hong Kong</td>\n",
       "      <td>22.27832</td>\n",
       "      <td>114.17469</td>\n",
       "      <td>Zahrabel</td>\n",
       "      <td>22.278194</td>\n",
       "      <td>114.175912</td>\n",
       "      <td>Middle Eastern Restaurant</td>\n",
       "      <td>127</td>\n",
       "    </tr>\n",
       "    <tr>\n",
       "      <th>1</th>\n",
       "      <td>Hong Kong</td>\n",
       "      <td>22.27832</td>\n",
       "      <td>114.17469</td>\n",
       "      <td>The Optimist</td>\n",
       "      <td>22.278049</td>\n",
       "      <td>114.175854</td>\n",
       "      <td>Spanish Restaurant</td>\n",
       "      <td>123</td>\n",
       "    </tr>\n",
       "    <tr>\n",
       "      <th>2</th>\n",
       "      <td>Hong Kong</td>\n",
       "      <td>22.27832</td>\n",
       "      <td>114.17469</td>\n",
       "      <td>Kam's Roast Goose (甘牌燒鵝)</td>\n",
       "      <td>22.277647</td>\n",
       "      <td>114.175361</td>\n",
       "      <td>Cantonese Restaurant</td>\n",
       "      <td>102</td>\n",
       "    </tr>\n",
       "    <tr>\n",
       "      <th>3</th>\n",
       "      <td>Hong Kong</td>\n",
       "      <td>22.27832</td>\n",
       "      <td>114.17469</td>\n",
       "      <td>Seorae (喜來稀肉)</td>\n",
       "      <td>22.278280</td>\n",
       "      <td>114.174143</td>\n",
       "      <td>Korean Restaurant</td>\n",
       "      <td>56</td>\n",
       "    </tr>\n",
       "    <tr>\n",
       "      <th>4</th>\n",
       "      <td>Hong Kong</td>\n",
       "      <td>22.27832</td>\n",
       "      <td>114.17469</td>\n",
       "      <td>Sang Kee Seafood Restaurant (生記海鮮飯店)</td>\n",
       "      <td>22.277755</td>\n",
       "      <td>114.172093</td>\n",
       "      <td>Seafood Restaurant</td>\n",
       "      <td>275</td>\n",
       "    </tr>\n",
       "  </tbody>\n",
       "</table>\n",
       "</div>"
      ],
      "text/plain": [
       "  Neighbourhood  Neighbourhood Latitude  Neighbourhood Longitude  \\\n",
       "0     Hong Kong                22.27832                114.17469   \n",
       "1     Hong Kong                22.27832                114.17469   \n",
       "2     Hong Kong                22.27832                114.17469   \n",
       "3     Hong Kong                22.27832                114.17469   \n",
       "4     Hong Kong                22.27832                114.17469   \n",
       "\n",
       "                                  Venue  Venue Latitude  Venue Longitude  \\\n",
       "0                              Zahrabel       22.278194       114.175912   \n",
       "1                          The Optimist       22.278049       114.175854   \n",
       "2              Kam's Roast Goose (甘牌燒鵝)       22.277647       114.175361   \n",
       "3                         Seorae (喜來稀肉)       22.278280       114.174143   \n",
       "4  Sang Kee Seafood Restaurant (生記海鮮飯店)       22.277755       114.172093   \n",
       "\n",
       "              Venue Category  Distance From Focus  \n",
       "0  Middle Eastern Restaurant                  127  \n",
       "1         Spanish Restaurant                  123  \n",
       "2       Cantonese Restaurant                  102  \n",
       "3          Korean Restaurant                   56  \n",
       "4         Seafood Restaurant                  275  "
      ]
     },
     "execution_count": 33,
     "metadata": {},
     "output_type": "execute_result"
    }
   ],
   "source": [
    "hongkong_restaurants_sp.head()"
   ]
  },
  {
   "cell_type": "code",
   "execution_count": 34,
   "metadata": {},
   "outputs": [
    {
     "data": {
      "text/plain": [
       "497"
      ]
     },
     "execution_count": 34,
     "metadata": {},
     "output_type": "execute_result"
    }
   ],
   "source": [
    "max(hongkong_restaurants_sp['Distance From Focus'])"
   ]
  },
  {
   "cell_type": "markdown",
   "metadata": {},
   "source": [
    "The farthest distance between Central point and Venue point is not even 500 m. So, it would not be a wiser approach to further divide these small neighborhoods. We needd to find some other approach. "
   ]
  },
  {
   "cell_type": "markdown",
   "metadata": {},
   "source": [
    "<b>Let's find the locations of our venues with respect to central point like North, North West etc.</b>"
   ]
  },
  {
   "cell_type": "markdown",
   "metadata": {},
   "source": [
    "<b>Function for getting directions of a venue according to focal point</b>"
   ]
  },
  {
   "cell_type": "code",
   "execution_count": 36,
   "metadata": {},
   "outputs": [],
   "source": [
    "def checkposition(foclat, foclong, venlat, venlong): \n",
    "    x1 = venlat\n",
    "    y1 = venlong\n",
    "    x2 = foclat\n",
    "    y2 = foclong\n",
    "\n",
    "    #radians = getAtan2((y1 - y2), (x1 - x2));\n",
    "\n",
    "    #Get angle between them\n",
    "    #Destination - Source\n",
    "    #End - Start\n",
    "    theta1 = atan2((y1 - y2), (x1 - x2))\n",
    "    #Convert to degrees\n",
    "    #compassReading = theta1 * (180 / Math.PI);\n",
    "\n",
    "    compassReading = degrees(theta1)\n",
    "    \n",
    "    coordNames = [\"N\", \"NE\", \"E\", \"SE\", \"S\", \"SW\", \"W\", \"NW\", \"N\"]\n",
    "    coordIndex = round(compassReading / 45)\n",
    "    if (coordIndex < 0):\n",
    "        coordIndex = coordIndex + 8\n",
    "        \n",
    "    return coordNames[coordIndex] # returns the coordinate value\n"
   ]
  },
  {
   "cell_type": "code",
   "execution_count": 37,
   "metadata": {},
   "outputs": [],
   "source": [
    "pos = []\n",
    "for i in range(hongkong_restaurants_sp['Venue'].size):\n",
    "    pos.append(checkposition(hongkong_restaurants_sp['Neighbourhood Latitude'][i], hongkong_restaurants_sp['Neighbourhood Longitude'][i],\n",
    "                   hongkong_restaurants_sp['Venue Latitude'][i], hongkong_restaurants_sp['Venue Longitude'][i]))"
   ]
  },
  {
   "cell_type": "code",
   "execution_count": 38,
   "metadata": {},
   "outputs": [],
   "source": [
    "hongkong_restaurants_sp['Location'] = pos"
   ]
  },
  {
   "cell_type": "code",
   "execution_count": 39,
   "metadata": {},
   "outputs": [
    {
     "data": {
      "text/html": [
       "<div>\n",
       "<style scoped>\n",
       "    .dataframe tbody tr th:only-of-type {\n",
       "        vertical-align: middle;\n",
       "    }\n",
       "\n",
       "    .dataframe tbody tr th {\n",
       "        vertical-align: top;\n",
       "    }\n",
       "\n",
       "    .dataframe thead th {\n",
       "        text-align: right;\n",
       "    }\n",
       "</style>\n",
       "<table border=\"1\" class=\"dataframe\">\n",
       "  <thead>\n",
       "    <tr style=\"text-align: right;\">\n",
       "      <th></th>\n",
       "      <th>Neighbourhood</th>\n",
       "      <th>Neighbourhood Latitude</th>\n",
       "      <th>Neighbourhood Longitude</th>\n",
       "      <th>Venue</th>\n",
       "      <th>Venue Latitude</th>\n",
       "      <th>Venue Longitude</th>\n",
       "      <th>Venue Category</th>\n",
       "      <th>Distance From Focus</th>\n",
       "      <th>Location</th>\n",
       "    </tr>\n",
       "  </thead>\n",
       "  <tbody>\n",
       "    <tr>\n",
       "      <th>0</th>\n",
       "      <td>Hong Kong</td>\n",
       "      <td>22.27832</td>\n",
       "      <td>114.17469</td>\n",
       "      <td>Zahrabel</td>\n",
       "      <td>22.278194</td>\n",
       "      <td>114.175912</td>\n",
       "      <td>Middle Eastern Restaurant</td>\n",
       "      <td>127</td>\n",
       "      <td>E</td>\n",
       "    </tr>\n",
       "    <tr>\n",
       "      <th>1</th>\n",
       "      <td>Hong Kong</td>\n",
       "      <td>22.27832</td>\n",
       "      <td>114.17469</td>\n",
       "      <td>The Optimist</td>\n",
       "      <td>22.278049</td>\n",
       "      <td>114.175854</td>\n",
       "      <td>Spanish Restaurant</td>\n",
       "      <td>123</td>\n",
       "      <td>E</td>\n",
       "    </tr>\n",
       "    <tr>\n",
       "      <th>2</th>\n",
       "      <td>Hong Kong</td>\n",
       "      <td>22.27832</td>\n",
       "      <td>114.17469</td>\n",
       "      <td>Kam's Roast Goose (甘牌燒鵝)</td>\n",
       "      <td>22.277647</td>\n",
       "      <td>114.175361</td>\n",
       "      <td>Cantonese Restaurant</td>\n",
       "      <td>102</td>\n",
       "      <td>SE</td>\n",
       "    </tr>\n",
       "    <tr>\n",
       "      <th>3</th>\n",
       "      <td>Hong Kong</td>\n",
       "      <td>22.27832</td>\n",
       "      <td>114.17469</td>\n",
       "      <td>Seorae (喜來稀肉)</td>\n",
       "      <td>22.278280</td>\n",
       "      <td>114.174143</td>\n",
       "      <td>Korean Restaurant</td>\n",
       "      <td>56</td>\n",
       "      <td>W</td>\n",
       "    </tr>\n",
       "    <tr>\n",
       "      <th>4</th>\n",
       "      <td>Hong Kong</td>\n",
       "      <td>22.27832</td>\n",
       "      <td>114.17469</td>\n",
       "      <td>Sang Kee Seafood Restaurant (生記海鮮飯店)</td>\n",
       "      <td>22.277755</td>\n",
       "      <td>114.172093</td>\n",
       "      <td>Seafood Restaurant</td>\n",
       "      <td>275</td>\n",
       "      <td>W</td>\n",
       "    </tr>\n",
       "  </tbody>\n",
       "</table>\n",
       "</div>"
      ],
      "text/plain": [
       "  Neighbourhood  Neighbourhood Latitude  Neighbourhood Longitude  \\\n",
       "0     Hong Kong                22.27832                114.17469   \n",
       "1     Hong Kong                22.27832                114.17469   \n",
       "2     Hong Kong                22.27832                114.17469   \n",
       "3     Hong Kong                22.27832                114.17469   \n",
       "4     Hong Kong                22.27832                114.17469   \n",
       "\n",
       "                                  Venue  Venue Latitude  Venue Longitude  \\\n",
       "0                              Zahrabel       22.278194       114.175912   \n",
       "1                          The Optimist       22.278049       114.175854   \n",
       "2              Kam's Roast Goose (甘牌燒鵝)       22.277647       114.175361   \n",
       "3                         Seorae (喜來稀肉)       22.278280       114.174143   \n",
       "4  Sang Kee Seafood Restaurant (生記海鮮飯店)       22.277755       114.172093   \n",
       "\n",
       "              Venue Category  Distance From Focus Location  \n",
       "0  Middle Eastern Restaurant                  127        E  \n",
       "1         Spanish Restaurant                  123        E  \n",
       "2       Cantonese Restaurant                  102       SE  \n",
       "3          Korean Restaurant                   56        W  \n",
       "4         Seafood Restaurant                  275        W  "
      ]
     },
     "execution_count": 39,
     "metadata": {},
     "output_type": "execute_result"
    }
   ],
   "source": [
    "hongkong_restaurants_sp.head()"
   ]
  },
  {
   "cell_type": "markdown",
   "metadata": {},
   "source": [
    "<b>Let's view the distribution of Hong Kong neighborhood according to location areas</b>"
   ]
  },
  {
   "cell_type": "code",
   "execution_count": 40,
   "metadata": {},
   "outputs": [
    {
     "data": {
      "text/plain": [
       "SW    31\n",
       "E     13\n",
       "W     10\n",
       "S      9\n",
       "SE     6\n",
       "NW     3\n",
       "NE     2\n",
       "N      2\n",
       "Name: Location, dtype: int64"
      ]
     },
     "execution_count": 40,
     "metadata": {},
     "output_type": "execute_result"
    }
   ],
   "source": [
    "hklcount = hongkong_restaurants_sp[hongkong_restaurants_sp['Neighbourhood'] == 'Hong Kong']['Location'].value_counts()\n",
    "hklcount"
   ]
  },
  {
   "cell_type": "markdown",
   "metadata": {},
   "source": [
    "This distribution clearly shows that South western Hong Kong is densily crowded with restaurants while other regions especially Northern regions don't have even one third number of restaurants in comparison to South west."
   ]
  },
  {
   "cell_type": "markdown",
   "metadata": {},
   "source": [
    "So, we will focus only on those areas in which number of restaurants is less than the avergae of total number of restaurants. We will call these regions as 'Low Density Restaurants' areas. "
   ]
  },
  {
   "cell_type": "code",
   "execution_count": 41,
   "metadata": {},
   "outputs": [
    {
     "data": {
      "text/plain": [
       "10"
      ]
     },
     "execution_count": 41,
     "metadata": {},
     "output_type": "execute_result"
    }
   ],
   "source": [
    "hkavg = round(sum(hklcount)/len(hklcount))\n",
    "hkavg"
   ]
  },
  {
   "cell_type": "code",
   "execution_count": 42,
   "metadata": {},
   "outputs": [
    {
     "data": {
      "text/plain": [
       "W     10\n",
       "S      9\n",
       "SE     6\n",
       "NW     3\n",
       "NE     2\n",
       "N      2\n",
       "Name: Location, dtype: int64"
      ]
     },
     "execution_count": 42,
     "metadata": {},
     "output_type": "execute_result"
    }
   ],
   "source": [
    "hklarea = hklcount[lambda x: x <= hkavg]\n",
    "hklarea"
   ]
  },
  {
   "cell_type": "markdown",
   "metadata": {},
   "source": [
    "The same is being done of other four neighborhoods as well in the following cells."
   ]
  },
  {
   "cell_type": "markdown",
   "metadata": {},
   "source": [
    "<b>Central</b>"
   ]
  },
  {
   "cell_type": "code",
   "execution_count": 43,
   "metadata": {},
   "outputs": [
    {
     "data": {
      "text/plain": [
       "N     8\n",
       "SE    3\n",
       "NE    3\n",
       "E     2\n",
       "NW    1\n",
       "Name: Location, dtype: int64"
      ]
     },
     "execution_count": 43,
     "metadata": {},
     "output_type": "execute_result"
    }
   ],
   "source": [
    "centralcount = hongkong_restaurants_sp[hongkong_restaurants_sp['Neighbourhood'] == 'Central']['Location'].value_counts()\n",
    "centralavg = round(sum(centralcount)/len(centralcount))\n",
    "centralarea = centralcount[lambda x: x <= centralavg]\n",
    "centralarea"
   ]
  },
  {
   "cell_type": "markdown",
   "metadata": {},
   "source": [
    "<b>Tung Chung</b>"
   ]
  },
  {
   "cell_type": "code",
   "execution_count": 44,
   "metadata": {},
   "outputs": [
    {
     "data": {
      "text/plain": [
       "NE    3\n",
       "Name: Location, dtype: int64"
      ]
     },
     "execution_count": 44,
     "metadata": {},
     "output_type": "execute_result"
    }
   ],
   "source": [
    "tungcount = hongkong_restaurants_sp[hongkong_restaurants_sp['Neighbourhood'] == 'Tung Chung']['Location'].value_counts()\n",
    "tungavg = round(sum(tungcount)/len(tungcount))\n",
    "tunglarea = tungcount[lambda x: x <= tungavg]\n",
    "tunglarea"
   ]
  },
  {
   "cell_type": "markdown",
   "metadata": {},
   "source": [
    "<b>Sham Shui Po</b>"
   ]
  },
  {
   "cell_type": "code",
   "execution_count": 45,
   "metadata": {},
   "outputs": [
    {
     "data": {
      "text/plain": [
       "E     5\n",
       "SE    4\n",
       "N     3\n",
       "Name: Location, dtype: int64"
      ]
     },
     "execution_count": 45,
     "metadata": {},
     "output_type": "execute_result"
    }
   ],
   "source": [
    "shamcount = hongkong_restaurants_sp[hongkong_restaurants_sp['Neighbourhood'] == 'Sham Shui Po']['Location'].value_counts()\n",
    "shamavg = round(sum(shamcount)/len(shamcount))\n",
    "shamlarea = shamcount[lambda x: x <= shamavg]\n",
    "shamlarea"
   ]
  },
  {
   "cell_type": "markdown",
   "metadata": {},
   "source": [
    "<b>Tai Po</b>"
   ]
  },
  {
   "cell_type": "code",
   "execution_count": 46,
   "metadata": {},
   "outputs": [
    {
     "data": {
      "text/plain": [
       "NW    5\n",
       "N     4\n",
       "W     1\n",
       "Name: Location, dtype: int64"
      ]
     },
     "execution_count": 46,
     "metadata": {},
     "output_type": "execute_result"
    }
   ],
   "source": [
    "taicount = hongkong_restaurants_sp[hongkong_restaurants_sp['Neighbourhood'] == 'Tai Po']['Location'].value_counts()\n",
    "taiavg = round(sum(taicount)/len(taicount))\n",
    "taiarea = taicount[lambda x: x <= taiavg]\n",
    "taiarea"
   ]
  },
  {
   "cell_type": "markdown",
   "metadata": {},
   "source": [
    "<b>Now, we have defined low density areas in these neighborhoods.So, let's create another dataframe which will show low density restaurant areas, low residence density areas and scenic location areas.</b>"
   ]
  },
  {
   "cell_type": "code",
   "execution_count": 49,
   "metadata": {},
   "outputs": [],
   "source": [
    "sparea = pd.DataFrame()"
   ]
  },
  {
   "cell_type": "code",
   "execution_count": 50,
   "metadata": {},
   "outputs": [],
   "source": [
    "sparea['Neighbourhood'] = hongkong_restaurants_sp['Neighbourhood'].unique().tolist()"
   ]
  },
  {
   "cell_type": "markdown",
   "metadata": {},
   "source": [
    "Get Latitudes and Longitudes of these neighborhoods as well."
   ]
  },
  {
   "cell_type": "code",
   "execution_count": 51,
   "metadata": {},
   "outputs": [
    {
     "data": {
      "text/html": [
       "<div>\n",
       "<style scoped>\n",
       "    .dataframe tbody tr th:only-of-type {\n",
       "        vertical-align: middle;\n",
       "    }\n",
       "\n",
       "    .dataframe tbody tr th {\n",
       "        vertical-align: top;\n",
       "    }\n",
       "\n",
       "    .dataframe thead th {\n",
       "        text-align: right;\n",
       "    }\n",
       "</style>\n",
       "<table border=\"1\" class=\"dataframe\">\n",
       "  <thead>\n",
       "    <tr style=\"text-align: right;\">\n",
       "      <th></th>\n",
       "      <th>Neighbourhood</th>\n",
       "      <th>Latitude</th>\n",
       "      <th>Longitude</th>\n",
       "    </tr>\n",
       "  </thead>\n",
       "  <tbody>\n",
       "    <tr>\n",
       "      <th>0</th>\n",
       "      <td>Hong Kong</td>\n",
       "      <td>22.278320</td>\n",
       "      <td>114.174690</td>\n",
       "    </tr>\n",
       "    <tr>\n",
       "      <th>1</th>\n",
       "      <td>Tung Chung</td>\n",
       "      <td>22.287830</td>\n",
       "      <td>113.942429</td>\n",
       "    </tr>\n",
       "    <tr>\n",
       "      <th>2</th>\n",
       "      <td>Tai Po</td>\n",
       "      <td>22.450069</td>\n",
       "      <td>114.168770</td>\n",
       "    </tr>\n",
       "    <tr>\n",
       "      <th>3</th>\n",
       "      <td>Sham Shui Po</td>\n",
       "      <td>22.330231</td>\n",
       "      <td>114.159447</td>\n",
       "    </tr>\n",
       "    <tr>\n",
       "      <th>4</th>\n",
       "      <td>Central</td>\n",
       "      <td>22.282989</td>\n",
       "      <td>114.158462</td>\n",
       "    </tr>\n",
       "  </tbody>\n",
       "</table>\n",
       "</div>"
      ],
      "text/plain": [
       "  Neighbourhood   Latitude   Longitude\n",
       "0     Hong Kong  22.278320  114.174690\n",
       "1    Tung Chung  22.287830  113.942429\n",
       "2        Tai Po  22.450069  114.168770\n",
       "3  Sham Shui Po  22.330231  114.159447\n",
       "4       Central  22.282989  114.158462"
      ]
     },
     "execution_count": 51,
     "metadata": {},
     "output_type": "execute_result"
    }
   ],
   "source": [
    "sparea['Latitude'] = hongkong_restaurants_sp['Neighbourhood Latitude'].unique().tolist()\n",
    "sparea['Longitude'] = hongkong_restaurants_sp['Neighbourhood Longitude'].unique().tolist()\n",
    "sparea"
   ]
  },
  {
   "cell_type": "code",
   "execution_count": 52,
   "metadata": {},
   "outputs": [],
   "source": [
    "#CHeck\n",
    "sparea['Latitude'] =pd.to_numeric(sparea['Latitude'])\n",
    "sparea['Longitude'] =pd.to_numeric(sparea['Longitude'])"
   ]
  },
  {
   "cell_type": "markdown",
   "metadata": {},
   "source": [
    "<b>Add Low Restaurant Density Area Column</b>"
   ]
  },
  {
   "cell_type": "code",
   "execution_count": 53,
   "metadata": {},
   "outputs": [],
   "source": [
    "sparea['Low Restaurant Density']  = [hklarea.keys().tolist(), tunglarea.keys().tolist(),\n",
    "                          taiarea.keys().tolist(), shamlarea.keys().tolist(),\n",
    "                          centralarea.keys().tolist()]"
   ]
  },
  {
   "cell_type": "code",
   "execution_count": 54,
   "metadata": {},
   "outputs": [
    {
     "data": {
      "text/html": [
       "<div>\n",
       "<style scoped>\n",
       "    .dataframe tbody tr th:only-of-type {\n",
       "        vertical-align: middle;\n",
       "    }\n",
       "\n",
       "    .dataframe tbody tr th {\n",
       "        vertical-align: top;\n",
       "    }\n",
       "\n",
       "    .dataframe thead th {\n",
       "        text-align: right;\n",
       "    }\n",
       "</style>\n",
       "<table border=\"1\" class=\"dataframe\">\n",
       "  <thead>\n",
       "    <tr style=\"text-align: right;\">\n",
       "      <th></th>\n",
       "      <th>Neighbourhood</th>\n",
       "      <th>Latitude</th>\n",
       "      <th>Longitude</th>\n",
       "      <th>Low Restaurant Density</th>\n",
       "    </tr>\n",
       "  </thead>\n",
       "  <tbody>\n",
       "    <tr>\n",
       "      <th>0</th>\n",
       "      <td>Hong Kong</td>\n",
       "      <td>22.278320</td>\n",
       "      <td>114.174690</td>\n",
       "      <td>[W, S, SE, NW, NE, N]</td>\n",
       "    </tr>\n",
       "    <tr>\n",
       "      <th>1</th>\n",
       "      <td>Tung Chung</td>\n",
       "      <td>22.287830</td>\n",
       "      <td>113.942429</td>\n",
       "      <td>[NE]</td>\n",
       "    </tr>\n",
       "    <tr>\n",
       "      <th>2</th>\n",
       "      <td>Tai Po</td>\n",
       "      <td>22.450069</td>\n",
       "      <td>114.168770</td>\n",
       "      <td>[NW, N, W]</td>\n",
       "    </tr>\n",
       "    <tr>\n",
       "      <th>3</th>\n",
       "      <td>Sham Shui Po</td>\n",
       "      <td>22.330231</td>\n",
       "      <td>114.159447</td>\n",
       "      <td>[E, SE, N]</td>\n",
       "    </tr>\n",
       "    <tr>\n",
       "      <th>4</th>\n",
       "      <td>Central</td>\n",
       "      <td>22.282989</td>\n",
       "      <td>114.158462</td>\n",
       "      <td>[N, SE, NE, E, NW]</td>\n",
       "    </tr>\n",
       "  </tbody>\n",
       "</table>\n",
       "</div>"
      ],
      "text/plain": [
       "  Neighbourhood   Latitude   Longitude Low Restaurant Density\n",
       "0     Hong Kong  22.278320  114.174690  [W, S, SE, NW, NE, N]\n",
       "1    Tung Chung  22.287830  113.942429                   [NE]\n",
       "2        Tai Po  22.450069  114.168770             [NW, N, W]\n",
       "3  Sham Shui Po  22.330231  114.159447             [E, SE, N]\n",
       "4       Central  22.282989  114.158462     [N, SE, NE, E, NW]"
      ]
     },
     "execution_count": 54,
     "metadata": {},
     "output_type": "execute_result"
    }
   ],
   "source": [
    "sparea.head()"
   ]
  },
  {
   "cell_type": "markdown",
   "metadata": {},
   "source": [
    "<b>Let's look out for some scenes and parks.</b>"
   ]
  },
  {
   "cell_type": "markdown",
   "metadata": {},
   "source": [
    "<b>Scenes</b>"
   ]
  },
  {
   "cell_type": "code",
   "execution_count": 55,
   "metadata": {},
   "outputs": [
    {
     "name": "stdout",
     "output_type": "stream",
     "text": [
      "Hong Kong\n",
      "Kowloon\n",
      "Tsuen Wan\n",
      "Yuen Long Kau Hui\n",
      "Tung Chung\n",
      "Sha Tin\n",
      "Tuen Mun\n",
      "Tai Po\n",
      "Sai Kung\n",
      "Yung Shue Wan\n",
      "Ngong Ping\n",
      "Sok Kwu Wan\n",
      "Tai O\n",
      "Wong Tai Sin\n",
      "Wan Chai\n",
      "Sham Shui Po\n",
      "Central\n",
      "(10, 7)\n"
     ]
    }
   ],
   "source": [
    "hongkong_scenes = getNearbyVenues(categoryid = '4bf58dd8d48988d165941735' ,\n",
    "                                  names = hongkong_df['City'],\n",
    "                                   latitudes = hongkong_df['Latitude'],\n",
    "                                   longitudes = hongkong_df['Longitude'])\n",
    "print(hongkong_scenes.shape)"
   ]
  },
  {
   "cell_type": "markdown",
   "metadata": {},
   "source": [
    "Get location areas of these spots as well."
   ]
  },
  {
   "cell_type": "code",
   "execution_count": 56,
   "metadata": {},
   "outputs": [],
   "source": [
    "spos = []\n",
    "for i in range(hongkong_scenes['Venue'].size):\n",
    "    spos.append(checkposition(hongkong_scenes['Neighbourhood Latitude'][i], hongkong_scenes['Neighbourhood Longitude'][i],\n",
    "                   hongkong_scenes['Venue Latitude'][i], hongkong_scenes['Venue Longitude'][i]))\n",
    "hongkong_scenes['Location'] = spos"
   ]
  },
  {
   "cell_type": "code",
   "execution_count": 57,
   "metadata": {},
   "outputs": [
    {
     "data": {
      "text/html": [
       "<div>\n",
       "<style scoped>\n",
       "    .dataframe tbody tr th:only-of-type {\n",
       "        vertical-align: middle;\n",
       "    }\n",
       "\n",
       "    .dataframe tbody tr th {\n",
       "        vertical-align: top;\n",
       "    }\n",
       "\n",
       "    .dataframe thead th {\n",
       "        text-align: right;\n",
       "    }\n",
       "</style>\n",
       "<table border=\"1\" class=\"dataframe\">\n",
       "  <thead>\n",
       "    <tr style=\"text-align: right;\">\n",
       "      <th></th>\n",
       "      <th>Neighbourhood</th>\n",
       "      <th>Neighbourhood Latitude</th>\n",
       "      <th>Neighbourhood Longitude</th>\n",
       "      <th>Venue</th>\n",
       "      <th>Venue Latitude</th>\n",
       "      <th>Venue Longitude</th>\n",
       "      <th>Venue Category</th>\n",
       "      <th>Location</th>\n",
       "    </tr>\n",
       "  </thead>\n",
       "  <tbody>\n",
       "    <tr>\n",
       "      <th>0</th>\n",
       "      <td>Hong Kong</td>\n",
       "      <td>22.278320</td>\n",
       "      <td>114.174690</td>\n",
       "      <td>Central Plaza Sky Lobby</td>\n",
       "      <td>22.280109</td>\n",
       "      <td>114.173710</td>\n",
       "      <td>Scenic Lookout</td>\n",
       "      <td>NW</td>\n",
       "    </tr>\n",
       "    <tr>\n",
       "      <th>1</th>\n",
       "      <td>Hong Kong</td>\n",
       "      <td>22.278320</td>\n",
       "      <td>114.174690</td>\n",
       "      <td>Крыша</td>\n",
       "      <td>22.276177</td>\n",
       "      <td>114.170997</td>\n",
       "      <td>Scenic Lookout</td>\n",
       "      <td>SW</td>\n",
       "    </tr>\n",
       "    <tr>\n",
       "      <th>2</th>\n",
       "      <td>Yung Shue Wan</td>\n",
       "      <td>22.226231</td>\n",
       "      <td>114.112411</td>\n",
       "      <td>Waterfront Bar &amp; Grill</td>\n",
       "      <td>22.225468</td>\n",
       "      <td>114.111306</td>\n",
       "      <td>Scenic Lookout</td>\n",
       "      <td>SW</td>\n",
       "    </tr>\n",
       "    <tr>\n",
       "      <th>3</th>\n",
       "      <td>Yung Shue Wan</td>\n",
       "      <td>22.226231</td>\n",
       "      <td>114.112411</td>\n",
       "      <td>Pavilion @ O Tsai (澳仔觀景亭)</td>\n",
       "      <td>22.228115</td>\n",
       "      <td>114.108419</td>\n",
       "      <td>Scenic Lookout</td>\n",
       "      <td>NW</td>\n",
       "    </tr>\n",
       "    <tr>\n",
       "      <th>4</th>\n",
       "      <td>Ngong Ping</td>\n",
       "      <td>22.255560</td>\n",
       "      <td>113.903908</td>\n",
       "      <td>Tian Tan Buddha (Giant Buddha) (天壇大佛)</td>\n",
       "      <td>22.253953</td>\n",
       "      <td>113.905011</td>\n",
       "      <td>Scenic Lookout</td>\n",
       "      <td>SE</td>\n",
       "    </tr>\n",
       "  </tbody>\n",
       "</table>\n",
       "</div>"
      ],
      "text/plain": [
       "   Neighbourhood  Neighbourhood Latitude  Neighbourhood Longitude  \\\n",
       "0      Hong Kong               22.278320               114.174690   \n",
       "1      Hong Kong               22.278320               114.174690   \n",
       "2  Yung Shue Wan               22.226231               114.112411   \n",
       "3  Yung Shue Wan               22.226231               114.112411   \n",
       "4     Ngong Ping               22.255560               113.903908   \n",
       "\n",
       "                                   Venue  Venue Latitude  Venue Longitude  \\\n",
       "0                Central Plaza Sky Lobby       22.280109       114.173710   \n",
       "1                                  Крыша       22.276177       114.170997   \n",
       "2                 Waterfront Bar & Grill       22.225468       114.111306   \n",
       "3              Pavilion @ O Tsai (澳仔觀景亭)       22.228115       114.108419   \n",
       "4  Tian Tan Buddha (Giant Buddha) (天壇大佛)       22.253953       113.905011   \n",
       "\n",
       "   Venue Category Location  \n",
       "0  Scenic Lookout       NW  \n",
       "1  Scenic Lookout       SW  \n",
       "2  Scenic Lookout       SW  \n",
       "3  Scenic Lookout       NW  \n",
       "4  Scenic Lookout       SE  "
      ]
     },
     "execution_count": 57,
     "metadata": {},
     "output_type": "execute_result"
    }
   ],
   "source": [
    "hongkong_scenes.head()"
   ]
  },
  {
   "cell_type": "markdown",
   "metadata": {},
   "source": [
    "Add location areas corresponding to neighborhoods in sparea dataframe. "
   ]
  },
  {
   "cell_type": "code",
   "execution_count": 58,
   "metadata": {},
   "outputs": [],
   "source": [
    "t =[]\n",
    "temp = []\n",
    "for x in sparea['Neighbourhood']:\n",
    "    temp = hongkong_scenes[hongkong_scenes['Neighbourhood'] == x]['Location'].values\n",
    "    if(len(temp) != 0):\n",
    "        l = []\n",
    "        for s in temp:\n",
    "            l.append(s)\n",
    "        t.append(list(set(l)))\n",
    "    else:\n",
    "        t.append('None')    "
   ]
  },
  {
   "cell_type": "code",
   "execution_count": 59,
   "metadata": {},
   "outputs": [],
   "source": [
    "sparea['Scenes'] = t"
   ]
  },
  {
   "cell_type": "code",
   "execution_count": 60,
   "metadata": {},
   "outputs": [
    {
     "data": {
      "text/html": [
       "<div>\n",
       "<style scoped>\n",
       "    .dataframe tbody tr th:only-of-type {\n",
       "        vertical-align: middle;\n",
       "    }\n",
       "\n",
       "    .dataframe tbody tr th {\n",
       "        vertical-align: top;\n",
       "    }\n",
       "\n",
       "    .dataframe thead th {\n",
       "        text-align: right;\n",
       "    }\n",
       "</style>\n",
       "<table border=\"1\" class=\"dataframe\">\n",
       "  <thead>\n",
       "    <tr style=\"text-align: right;\">\n",
       "      <th></th>\n",
       "      <th>Neighbourhood</th>\n",
       "      <th>Latitude</th>\n",
       "      <th>Longitude</th>\n",
       "      <th>Low Restaurant Density</th>\n",
       "      <th>Scenes</th>\n",
       "    </tr>\n",
       "  </thead>\n",
       "  <tbody>\n",
       "    <tr>\n",
       "      <th>0</th>\n",
       "      <td>Hong Kong</td>\n",
       "      <td>22.278320</td>\n",
       "      <td>114.174690</td>\n",
       "      <td>[W, S, SE, NW, NE, N]</td>\n",
       "      <td>[SW, NW]</td>\n",
       "    </tr>\n",
       "    <tr>\n",
       "      <th>1</th>\n",
       "      <td>Tung Chung</td>\n",
       "      <td>22.287830</td>\n",
       "      <td>113.942429</td>\n",
       "      <td>[NE]</td>\n",
       "      <td>None</td>\n",
       "    </tr>\n",
       "    <tr>\n",
       "      <th>2</th>\n",
       "      <td>Tai Po</td>\n",
       "      <td>22.450069</td>\n",
       "      <td>114.168770</td>\n",
       "      <td>[NW, N, W]</td>\n",
       "      <td>None</td>\n",
       "    </tr>\n",
       "    <tr>\n",
       "      <th>3</th>\n",
       "      <td>Sham Shui Po</td>\n",
       "      <td>22.330231</td>\n",
       "      <td>114.159447</td>\n",
       "      <td>[E, SE, N]</td>\n",
       "      <td>None</td>\n",
       "    </tr>\n",
       "    <tr>\n",
       "      <th>4</th>\n",
       "      <td>Central</td>\n",
       "      <td>22.282989</td>\n",
       "      <td>114.158462</td>\n",
       "      <td>[N, SE, NE, E, NW]</td>\n",
       "      <td>[N, NE]</td>\n",
       "    </tr>\n",
       "  </tbody>\n",
       "</table>\n",
       "</div>"
      ],
      "text/plain": [
       "  Neighbourhood   Latitude   Longitude Low Restaurant Density    Scenes\n",
       "0     Hong Kong  22.278320  114.174690  [W, S, SE, NW, NE, N]  [SW, NW]\n",
       "1    Tung Chung  22.287830  113.942429                   [NE]      None\n",
       "2        Tai Po  22.450069  114.168770             [NW, N, W]      None\n",
       "3  Sham Shui Po  22.330231  114.159447             [E, SE, N]      None\n",
       "4       Central  22.282989  114.158462     [N, SE, NE, E, NW]   [N, NE]"
      ]
     },
     "execution_count": 60,
     "metadata": {},
     "output_type": "execute_result"
    }
   ],
   "source": [
    "sparea.head()"
   ]
  },
  {
   "cell_type": "markdown",
   "metadata": {},
   "source": [
    "<b>Parks</b>"
   ]
  },
  {
   "cell_type": "code",
   "execution_count": 61,
   "metadata": {},
   "outputs": [
    {
     "name": "stdout",
     "output_type": "stream",
     "text": [
      "Hong Kong\n",
      "Kowloon\n",
      "Tsuen Wan\n",
      "Yuen Long Kau Hui\n",
      "Tung Chung\n",
      "Sha Tin\n",
      "Tuen Mun\n",
      "Tai Po\n",
      "Sai Kung\n",
      "Yung Shue Wan\n",
      "Ngong Ping\n",
      "Sok Kwu Wan\n",
      "Tai O\n",
      "Wong Tai Sin\n",
      "Wan Chai\n",
      "Sham Shui Po\n",
      "Central\n",
      "(25, 7)\n"
     ]
    }
   ],
   "source": [
    "hongkong_parks = getNearbyVenues(categoryid = '4bf58dd8d48988d163941735' ,\n",
    "                                  names = hongkong_df['City'],\n",
    "                                   latitudes = hongkong_df['Latitude'],\n",
    "                                   longitudes = hongkong_df['Longitude'])\n",
    "print(hongkong_parks.shape)"
   ]
  },
  {
   "cell_type": "markdown",
   "metadata": {},
   "source": [
    "Get location areas for these parks as well."
   ]
  },
  {
   "cell_type": "code",
   "execution_count": 62,
   "metadata": {},
   "outputs": [],
   "source": [
    "spos = []\n",
    "for i in range(hongkong_parks['Venue'].size):\n",
    "    spos.append(checkposition(hongkong_parks['Neighbourhood Latitude'][i], hongkong_parks['Neighbourhood Longitude'][i],\n",
    "                   hongkong_parks['Venue Latitude'][i], hongkong_parks['Venue Longitude'][i]))\n",
    "hongkong_parks['Location'] = spos"
   ]
  },
  {
   "cell_type": "code",
   "execution_count": 63,
   "metadata": {},
   "outputs": [
    {
     "data": {
      "text/html": [
       "<div>\n",
       "<style scoped>\n",
       "    .dataframe tbody tr th:only-of-type {\n",
       "        vertical-align: middle;\n",
       "    }\n",
       "\n",
       "    .dataframe tbody tr th {\n",
       "        vertical-align: top;\n",
       "    }\n",
       "\n",
       "    .dataframe thead th {\n",
       "        text-align: right;\n",
       "    }\n",
       "</style>\n",
       "<table border=\"1\" class=\"dataframe\">\n",
       "  <thead>\n",
       "    <tr style=\"text-align: right;\">\n",
       "      <th></th>\n",
       "      <th>Neighbourhood</th>\n",
       "      <th>Neighbourhood Latitude</th>\n",
       "      <th>Neighbourhood Longitude</th>\n",
       "      <th>Venue</th>\n",
       "      <th>Venue Latitude</th>\n",
       "      <th>Venue Longitude</th>\n",
       "      <th>Venue Category</th>\n",
       "      <th>Location</th>\n",
       "    </tr>\n",
       "  </thead>\n",
       "  <tbody>\n",
       "    <tr>\n",
       "      <th>0</th>\n",
       "      <td>Hong Kong</td>\n",
       "      <td>22.278320</td>\n",
       "      <td>114.174690</td>\n",
       "      <td>Lee Tung Avenue (利東街)</td>\n",
       "      <td>22.275942</td>\n",
       "      <td>114.172540</td>\n",
       "      <td>Shopping Plaza</td>\n",
       "      <td>SW</td>\n",
       "    </tr>\n",
       "    <tr>\n",
       "      <th>1</th>\n",
       "      <td>Hong Kong</td>\n",
       "      <td>22.278320</td>\n",
       "      <td>114.174690</td>\n",
       "      <td>Wan Chai Park (灣仔公園)</td>\n",
       "      <td>22.275421</td>\n",
       "      <td>114.176166</td>\n",
       "      <td>Park</td>\n",
       "      <td>SE</td>\n",
       "    </tr>\n",
       "    <tr>\n",
       "      <th>2</th>\n",
       "      <td>Hong Kong</td>\n",
       "      <td>22.278320</td>\n",
       "      <td>114.174690</td>\n",
       "      <td>Harbour Road Garden 港灣道花園</td>\n",
       "      <td>22.280500</td>\n",
       "      <td>114.175626</td>\n",
       "      <td>Garden</td>\n",
       "      <td>NE</td>\n",
       "    </tr>\n",
       "    <tr>\n",
       "      <th>3</th>\n",
       "      <td>Kowloon</td>\n",
       "      <td>22.316669</td>\n",
       "      <td>114.183327</td>\n",
       "      <td>Red Signal Hill 紅燈山</td>\n",
       "      <td>22.316208</td>\n",
       "      <td>114.183516</td>\n",
       "      <td>Park</td>\n",
       "      <td>S</td>\n",
       "    </tr>\n",
       "    <tr>\n",
       "      <th>4</th>\n",
       "      <td>Kowloon</td>\n",
       "      <td>22.316669</td>\n",
       "      <td>114.183327</td>\n",
       "      <td>Ko Shan Road Park (高山道公園)</td>\n",
       "      <td>22.314341</td>\n",
       "      <td>114.185913</td>\n",
       "      <td>Park</td>\n",
       "      <td>SE</td>\n",
       "    </tr>\n",
       "  </tbody>\n",
       "</table>\n",
       "</div>"
      ],
      "text/plain": [
       "  Neighbourhood  Neighbourhood Latitude  Neighbourhood Longitude  \\\n",
       "0     Hong Kong               22.278320               114.174690   \n",
       "1     Hong Kong               22.278320               114.174690   \n",
       "2     Hong Kong               22.278320               114.174690   \n",
       "3       Kowloon               22.316669               114.183327   \n",
       "4       Kowloon               22.316669               114.183327   \n",
       "\n",
       "                       Venue  Venue Latitude  Venue Longitude  Venue Category  \\\n",
       "0      Lee Tung Avenue (利東街)       22.275942       114.172540  Shopping Plaza   \n",
       "1       Wan Chai Park (灣仔公園)       22.275421       114.176166            Park   \n",
       "2  Harbour Road Garden 港灣道花園       22.280500       114.175626          Garden   \n",
       "3        Red Signal Hill 紅燈山       22.316208       114.183516            Park   \n",
       "4  Ko Shan Road Park (高山道公園)       22.314341       114.185913            Park   \n",
       "\n",
       "  Location  \n",
       "0       SW  \n",
       "1       SE  \n",
       "2       NE  \n",
       "3        S  \n",
       "4       SE  "
      ]
     },
     "execution_count": 63,
     "metadata": {},
     "output_type": "execute_result"
    }
   ],
   "source": [
    "hongkong_parks.head()"
   ]
  },
  {
   "cell_type": "markdown",
   "metadata": {},
   "source": [
    "Add location areas corresponding to neighborhoods in sparea dataframe. "
   ]
  },
  {
   "cell_type": "code",
   "execution_count": 64,
   "metadata": {},
   "outputs": [],
   "source": [
    "t =[]\n",
    "temp = []\n",
    "for x in sparea['Neighbourhood']:\n",
    "    temp = hongkong_parks[hongkong_parks['Neighbourhood'] == x]['Location'].values\n",
    "    if(len(temp) != 0):\n",
    "        l = []\n",
    "        for s in temp:\n",
    "             l.append(s)\n",
    "        if len(l) == 0:\n",
    "            t.append('None')\n",
    "        else:\n",
    "            t.append(list(set(l)))\n",
    "    else:\n",
    "        t.append('None')    "
   ]
  },
  {
   "cell_type": "code",
   "execution_count": 65,
   "metadata": {},
   "outputs": [],
   "source": [
    "sparea['Parks'] = t"
   ]
  },
  {
   "cell_type": "code",
   "execution_count": 66,
   "metadata": {},
   "outputs": [
    {
     "data": {
      "text/html": [
       "<div>\n",
       "<style scoped>\n",
       "    .dataframe tbody tr th:only-of-type {\n",
       "        vertical-align: middle;\n",
       "    }\n",
       "\n",
       "    .dataframe tbody tr th {\n",
       "        vertical-align: top;\n",
       "    }\n",
       "\n",
       "    .dataframe thead th {\n",
       "        text-align: right;\n",
       "    }\n",
       "</style>\n",
       "<table border=\"1\" class=\"dataframe\">\n",
       "  <thead>\n",
       "    <tr style=\"text-align: right;\">\n",
       "      <th></th>\n",
       "      <th>Neighbourhood</th>\n",
       "      <th>Latitude</th>\n",
       "      <th>Longitude</th>\n",
       "      <th>Low Restaurant Density</th>\n",
       "      <th>Scenes</th>\n",
       "      <th>Parks</th>\n",
       "    </tr>\n",
       "  </thead>\n",
       "  <tbody>\n",
       "    <tr>\n",
       "      <th>0</th>\n",
       "      <td>Hong Kong</td>\n",
       "      <td>22.278320</td>\n",
       "      <td>114.174690</td>\n",
       "      <td>[W, S, SE, NW, NE, N]</td>\n",
       "      <td>[SW, NW]</td>\n",
       "      <td>[NE, SW, SE]</td>\n",
       "    </tr>\n",
       "    <tr>\n",
       "      <th>1</th>\n",
       "      <td>Tung Chung</td>\n",
       "      <td>22.287830</td>\n",
       "      <td>113.942429</td>\n",
       "      <td>[NE]</td>\n",
       "      <td>None</td>\n",
       "      <td>[N]</td>\n",
       "    </tr>\n",
       "    <tr>\n",
       "      <th>2</th>\n",
       "      <td>Tai Po</td>\n",
       "      <td>22.450069</td>\n",
       "      <td>114.168770</td>\n",
       "      <td>[NW, N, W]</td>\n",
       "      <td>None</td>\n",
       "      <td>[NW]</td>\n",
       "    </tr>\n",
       "    <tr>\n",
       "      <th>3</th>\n",
       "      <td>Sham Shui Po</td>\n",
       "      <td>22.330231</td>\n",
       "      <td>114.159447</td>\n",
       "      <td>[E, SE, N]</td>\n",
       "      <td>None</td>\n",
       "      <td>[W, S, SE]</td>\n",
       "    </tr>\n",
       "    <tr>\n",
       "      <th>4</th>\n",
       "      <td>Central</td>\n",
       "      <td>22.282989</td>\n",
       "      <td>114.158462</td>\n",
       "      <td>[N, SE, NE, E, NW]</td>\n",
       "      <td>[N, NE]</td>\n",
       "      <td>[N, E, SE]</td>\n",
       "    </tr>\n",
       "  </tbody>\n",
       "</table>\n",
       "</div>"
      ],
      "text/plain": [
       "  Neighbourhood   Latitude   Longitude Low Restaurant Density    Scenes  \\\n",
       "0     Hong Kong  22.278320  114.174690  [W, S, SE, NW, NE, N]  [SW, NW]   \n",
       "1    Tung Chung  22.287830  113.942429                   [NE]      None   \n",
       "2        Tai Po  22.450069  114.168770             [NW, N, W]      None   \n",
       "3  Sham Shui Po  22.330231  114.159447             [E, SE, N]      None   \n",
       "4       Central  22.282989  114.158462     [N, SE, NE, E, NW]   [N, NE]   \n",
       "\n",
       "          Parks  \n",
       "0  [NE, SW, SE]  \n",
       "1           [N]  \n",
       "2          [NW]  \n",
       "3    [W, S, SE]  \n",
       "4    [N, E, SE]  "
      ]
     },
     "execution_count": 66,
     "metadata": {},
     "output_type": "execute_result"
    }
   ],
   "source": [
    "sparea.head()"
   ]
  },
  {
   "cell_type": "markdown",
   "metadata": {},
   "source": [
    "<b>Residential Area</b>"
   ]
  },
  {
   "cell_type": "code",
   "execution_count": 67,
   "metadata": {},
   "outputs": [
    {
     "name": "stdout",
     "output_type": "stream",
     "text": [
      "Hong Kong\n",
      "Kowloon\n",
      "Tsuen Wan\n",
      "Yuen Long Kau Hui\n",
      "Tung Chung\n",
      "Sha Tin\n",
      "Tuen Mun\n",
      "Tai Po\n",
      "Sai Kung\n",
      "Yung Shue Wan\n",
      "Ngong Ping\n",
      "Sok Kwu Wan\n",
      "Tai O\n",
      "Wong Tai Sin\n",
      "Wan Chai\n",
      "Sham Shui Po\n",
      "Central\n",
      "(59, 7)\n"
     ]
    }
   ],
   "source": [
    "hongkong_residence = getNearbyVenues(categoryid = '4e67e38e036454776db1fb3a' ,\n",
    "                                  names = hongkong_df['City'],\n",
    "                                   latitudes = hongkong_df['Latitude'],\n",
    "                                   longitudes = hongkong_df['Longitude'])\n",
    "print(hongkong_residence.shape)"
   ]
  },
  {
   "cell_type": "markdown",
   "metadata": {},
   "source": [
    "Get Location areas for these residential areas too."
   ]
  },
  {
   "cell_type": "code",
   "execution_count": 68,
   "metadata": {},
   "outputs": [],
   "source": [
    "pos = []\n",
    "for i in range(hongkong_residence['Venue'].size):\n",
    "    pos.append(checkposition(hongkong_residence['Neighbourhood Latitude'][i], hongkong_residence['Neighbourhood Longitude'][i],\n",
    "                   hongkong_residence['Venue Latitude'][i], hongkong_residence['Venue Longitude'][i]))"
   ]
  },
  {
   "cell_type": "code",
   "execution_count": 69,
   "metadata": {},
   "outputs": [],
   "source": [
    "hongkong_residence['Location'] = pos"
   ]
  },
  {
   "cell_type": "code",
   "execution_count": 70,
   "metadata": {},
   "outputs": [
    {
     "data": {
      "text/html": [
       "<div>\n",
       "<style scoped>\n",
       "    .dataframe tbody tr th:only-of-type {\n",
       "        vertical-align: middle;\n",
       "    }\n",
       "\n",
       "    .dataframe tbody tr th {\n",
       "        vertical-align: top;\n",
       "    }\n",
       "\n",
       "    .dataframe thead th {\n",
       "        text-align: right;\n",
       "    }\n",
       "</style>\n",
       "<table border=\"1\" class=\"dataframe\">\n",
       "  <thead>\n",
       "    <tr style=\"text-align: right;\">\n",
       "      <th></th>\n",
       "      <th>Neighbourhood</th>\n",
       "      <th>Neighbourhood Latitude</th>\n",
       "      <th>Neighbourhood Longitude</th>\n",
       "      <th>Venue</th>\n",
       "      <th>Venue Latitude</th>\n",
       "      <th>Venue Longitude</th>\n",
       "      <th>Venue Category</th>\n",
       "      <th>Location</th>\n",
       "    </tr>\n",
       "  </thead>\n",
       "  <tbody>\n",
       "    <tr>\n",
       "      <th>0</th>\n",
       "      <td>Hong Kong</td>\n",
       "      <td>22.27832</td>\n",
       "      <td>114.17469</td>\n",
       "      <td>Tai Wo Court 泰和閣</td>\n",
       "      <td>22.276413</td>\n",
       "      <td>114.173652</td>\n",
       "      <td>Residential Building (Apartment / Condo)</td>\n",
       "      <td>SW</td>\n",
       "    </tr>\n",
       "    <tr>\n",
       "      <th>1</th>\n",
       "      <td>Hong Kong</td>\n",
       "      <td>22.27832</td>\n",
       "      <td>114.17469</td>\n",
       "      <td>Alliance Française 香港法國文化協會</td>\n",
       "      <td>22.277386</td>\n",
       "      <td>114.172557</td>\n",
       "      <td>Office</td>\n",
       "      <td>SW</td>\n",
       "    </tr>\n",
       "    <tr>\n",
       "      <th>2</th>\n",
       "      <td>Hong Kong</td>\n",
       "      <td>22.27832</td>\n",
       "      <td>114.17469</td>\n",
       "      <td>Convention Plaza Apartments 會景閣</td>\n",
       "      <td>22.280194</td>\n",
       "      <td>114.172560</td>\n",
       "      <td>Residential Building (Apartment / Condo)</td>\n",
       "      <td>NW</td>\n",
       "    </tr>\n",
       "    <tr>\n",
       "      <th>3</th>\n",
       "      <td>Hong Kong</td>\n",
       "      <td>22.27832</td>\n",
       "      <td>114.17469</td>\n",
       "      <td>Kapok Apartment (木棉花)</td>\n",
       "      <td>22.280524</td>\n",
       "      <td>114.176478</td>\n",
       "      <td>Residential Building (Apartment / Condo)</td>\n",
       "      <td>NE</td>\n",
       "    </tr>\n",
       "    <tr>\n",
       "      <th>4</th>\n",
       "      <td>Hong Kong</td>\n",
       "      <td>22.27832</td>\n",
       "      <td>114.17469</td>\n",
       "      <td>The Oakhill 萃峯</td>\n",
       "      <td>22.276143</td>\n",
       "      <td>114.176717</td>\n",
       "      <td>Residential Building (Apartment / Condo)</td>\n",
       "      <td>SE</td>\n",
       "    </tr>\n",
       "  </tbody>\n",
       "</table>\n",
       "</div>"
      ],
      "text/plain": [
       "  Neighbourhood  Neighbourhood Latitude  Neighbourhood Longitude  \\\n",
       "0     Hong Kong                22.27832                114.17469   \n",
       "1     Hong Kong                22.27832                114.17469   \n",
       "2     Hong Kong                22.27832                114.17469   \n",
       "3     Hong Kong                22.27832                114.17469   \n",
       "4     Hong Kong                22.27832                114.17469   \n",
       "\n",
       "                             Venue  Venue Latitude  Venue Longitude  \\\n",
       "0                 Tai Wo Court 泰和閣       22.276413       114.173652   \n",
       "1      Alliance Française 香港法國文化協會       22.277386       114.172557   \n",
       "2  Convention Plaza Apartments 會景閣       22.280194       114.172560   \n",
       "3            Kapok Apartment (木棉花)       22.280524       114.176478   \n",
       "4                   The Oakhill 萃峯       22.276143       114.176717   \n",
       "\n",
       "                             Venue Category Location  \n",
       "0  Residential Building (Apartment / Condo)       SW  \n",
       "1                                    Office       SW  \n",
       "2  Residential Building (Apartment / Condo)       NW  \n",
       "3  Residential Building (Apartment / Condo)       NE  \n",
       "4  Residential Building (Apartment / Condo)       SE  "
      ]
     },
     "execution_count": 70,
     "metadata": {},
     "output_type": "execute_result"
    }
   ],
   "source": [
    "hongkong_residence.head()"
   ]
  },
  {
   "cell_type": "markdown",
   "metadata": {},
   "source": [
    "<b>Identify lower residence density areas</b>"
   ]
  },
  {
   "cell_type": "code",
   "execution_count": 71,
   "metadata": {},
   "outputs": [
    {
     "data": {
      "text/plain": [
       "SW    4\n",
       "S     2\n",
       "E     2\n",
       "SE    1\n",
       "W     1\n",
       "NE    1\n",
       "NW    1\n",
       "Name: Location, dtype: int64"
      ]
     },
     "execution_count": 71,
     "metadata": {},
     "output_type": "execute_result"
    }
   ],
   "source": [
    "hkresi = hongkong_residence[hongkong_residence['Neighbourhood'] == 'Hong Kong']['Location'].value_counts()\n",
    "hkresi"
   ]
  },
  {
   "cell_type": "markdown",
   "metadata": {},
   "source": [
    "South West seems to be pretty crowded area. We will focus over only those areas where residential count is less than average of total residential count."
   ]
  },
  {
   "cell_type": "markdown",
   "metadata": {},
   "source": [
    "The cell below does the same job for all neighborhoods."
   ]
  },
  {
   "cell_type": "code",
   "execution_count": 72,
   "metadata": {},
   "outputs": [],
   "source": [
    "t =[]\n",
    "temp = []\n",
    "for x in sparea['Neighbourhood']:\n",
    "    #All values\n",
    "    neighloc = hongkong_residence[hongkong_residence['Neighbourhood'] == x]['Location'].values \n",
    "    #Only low residential area values\n",
    "    #Residential Areas loc values\n",
    "    neighloc_count = hongkong_residence[hongkong_residence['Neighbourhood'] == x]['Location'].value_counts()\n",
    "    neighavg = round(sum(neighloc_count)/len(neighloc_count))\n",
    "    \n",
    "    neighlresi = neighloc_count[lambda x : x <= neighavg]\n",
    "    \n",
    "    if(len(neighlresi.keys().tolist()) != 0):\n",
    "        l =[]\n",
    "        #for s in neighloc:\n",
    "        for s in neighlresi.keys().tolist():\n",
    "            l.append(s)\n",
    "        if len(l) == 0:\n",
    "            t.append('None')\n",
    "        else:\n",
    "            t.append(list(set(l)))\n",
    "    else:\n",
    "        t.append('None')"
   ]
  },
  {
   "cell_type": "code",
   "execution_count": 73,
   "metadata": {},
   "outputs": [],
   "source": [
    "sparea['Low Residence'] = t"
   ]
  },
  {
   "cell_type": "code",
   "execution_count": 74,
   "metadata": {},
   "outputs": [
    {
     "data": {
      "text/html": [
       "<div>\n",
       "<style scoped>\n",
       "    .dataframe tbody tr th:only-of-type {\n",
       "        vertical-align: middle;\n",
       "    }\n",
       "\n",
       "    .dataframe tbody tr th {\n",
       "        vertical-align: top;\n",
       "    }\n",
       "\n",
       "    .dataframe thead th {\n",
       "        text-align: right;\n",
       "    }\n",
       "</style>\n",
       "<table border=\"1\" class=\"dataframe\">\n",
       "  <thead>\n",
       "    <tr style=\"text-align: right;\">\n",
       "      <th></th>\n",
       "      <th>Neighbourhood</th>\n",
       "      <th>Latitude</th>\n",
       "      <th>Longitude</th>\n",
       "      <th>Low Restaurant Density</th>\n",
       "      <th>Scenes</th>\n",
       "      <th>Parks</th>\n",
       "      <th>Low Residence</th>\n",
       "    </tr>\n",
       "  </thead>\n",
       "  <tbody>\n",
       "    <tr>\n",
       "      <th>0</th>\n",
       "      <td>Hong Kong</td>\n",
       "      <td>22.278320</td>\n",
       "      <td>114.174690</td>\n",
       "      <td>[W, S, SE, NW, NE, N]</td>\n",
       "      <td>[SW, NW]</td>\n",
       "      <td>[NE, SW, SE]</td>\n",
       "      <td>[NW, SE, E, NE, W, S]</td>\n",
       "    </tr>\n",
       "    <tr>\n",
       "      <th>1</th>\n",
       "      <td>Tung Chung</td>\n",
       "      <td>22.287830</td>\n",
       "      <td>113.942429</td>\n",
       "      <td>[NE]</td>\n",
       "      <td>None</td>\n",
       "      <td>[N]</td>\n",
       "      <td>[NE, W, S, SE]</td>\n",
       "    </tr>\n",
       "    <tr>\n",
       "      <th>2</th>\n",
       "      <td>Tai Po</td>\n",
       "      <td>22.450069</td>\n",
       "      <td>114.168770</td>\n",
       "      <td>[NW, N, W]</td>\n",
       "      <td>None</td>\n",
       "      <td>[NW]</td>\n",
       "      <td>[NE, N, NW]</td>\n",
       "    </tr>\n",
       "    <tr>\n",
       "      <th>3</th>\n",
       "      <td>Sham Shui Po</td>\n",
       "      <td>22.330231</td>\n",
       "      <td>114.159447</td>\n",
       "      <td>[E, SE, N]</td>\n",
       "      <td>None</td>\n",
       "      <td>[W, S, SE]</td>\n",
       "      <td>[NW, W, NE, SE]</td>\n",
       "    </tr>\n",
       "    <tr>\n",
       "      <th>4</th>\n",
       "      <td>Central</td>\n",
       "      <td>22.282989</td>\n",
       "      <td>114.158462</td>\n",
       "      <td>[N, SE, NE, E, NW]</td>\n",
       "      <td>[N, NE]</td>\n",
       "      <td>[N, E, SE]</td>\n",
       "      <td>[N, SW]</td>\n",
       "    </tr>\n",
       "  </tbody>\n",
       "</table>\n",
       "</div>"
      ],
      "text/plain": [
       "  Neighbourhood   Latitude   Longitude Low Restaurant Density    Scenes  \\\n",
       "0     Hong Kong  22.278320  114.174690  [W, S, SE, NW, NE, N]  [SW, NW]   \n",
       "1    Tung Chung  22.287830  113.942429                   [NE]      None   \n",
       "2        Tai Po  22.450069  114.168770             [NW, N, W]      None   \n",
       "3  Sham Shui Po  22.330231  114.159447             [E, SE, N]      None   \n",
       "4       Central  22.282989  114.158462     [N, SE, NE, E, NW]   [N, NE]   \n",
       "\n",
       "          Parks          Low Residence  \n",
       "0  [NE, SW, SE]  [NW, SE, E, NE, W, S]  \n",
       "1           [N]         [NE, W, S, SE]  \n",
       "2          [NW]            [NE, N, NW]  \n",
       "3    [W, S, SE]        [NW, W, NE, SE]  \n",
       "4    [N, E, SE]                [N, SW]  "
      ]
     },
     "execution_count": 74,
     "metadata": {},
     "output_type": "execute_result"
    }
   ],
   "source": [
    "sparea"
   ]
  },
  {
   "cell_type": "markdown",
   "metadata": {},
   "source": [
    "<b>Combine Scenes and Parks for ease of analysis</b>"
   ]
  },
  {
   "cell_type": "code",
   "execution_count": 75,
   "metadata": {},
   "outputs": [],
   "source": [
    "temp = []\n",
    "t =[]\n",
    "for x in sparea['Neighbourhood']:\n",
    "    rest = sparea[sparea['Neighbourhood'] == x]['Low Restaurant Density'].values\n",
    "    resi = sparea[sparea['Neighbourhood'] == x]['Low Residence'].values\n",
    "    park = sparea[sparea['Neighbourhood'] == x]['Parks'].values\n",
    "    scene = sparea[sparea['Neighbourhood'] == x]['Scenes'].values   \n",
    "    #a = set(rest[0]).intersection(resi[0],park[0])    \n",
    "    if(scene != 'None'):\n",
    "        a = park + scene\n",
    "    else:\n",
    "        a = park\n",
    "    temp.append(list(set(a[0])))   \n",
    "    \n"
   ]
  },
  {
   "cell_type": "code",
   "execution_count": 76,
   "metadata": {},
   "outputs": [],
   "source": [
    "sparea['Scenes/Parks'] = temp"
   ]
  },
  {
   "cell_type": "code",
   "execution_count": 77,
   "metadata": {},
   "outputs": [
    {
     "data": {
      "text/html": [
       "<div>\n",
       "<style scoped>\n",
       "    .dataframe tbody tr th:only-of-type {\n",
       "        vertical-align: middle;\n",
       "    }\n",
       "\n",
       "    .dataframe tbody tr th {\n",
       "        vertical-align: top;\n",
       "    }\n",
       "\n",
       "    .dataframe thead th {\n",
       "        text-align: right;\n",
       "    }\n",
       "</style>\n",
       "<table border=\"1\" class=\"dataframe\">\n",
       "  <thead>\n",
       "    <tr style=\"text-align: right;\">\n",
       "      <th></th>\n",
       "      <th>Neighbourhood</th>\n",
       "      <th>Latitude</th>\n",
       "      <th>Longitude</th>\n",
       "      <th>Low Restaurant Density</th>\n",
       "      <th>Low Residence</th>\n",
       "      <th>Scenes/Parks</th>\n",
       "    </tr>\n",
       "  </thead>\n",
       "  <tbody>\n",
       "    <tr>\n",
       "      <th>0</th>\n",
       "      <td>Hong Kong</td>\n",
       "      <td>22.278320</td>\n",
       "      <td>114.174690</td>\n",
       "      <td>[W, S, SE, NW, NE, N]</td>\n",
       "      <td>[NW, SE, E, NE, W, S]</td>\n",
       "      <td>[NE, NW, SW, SE]</td>\n",
       "    </tr>\n",
       "    <tr>\n",
       "      <th>1</th>\n",
       "      <td>Tung Chung</td>\n",
       "      <td>22.287830</td>\n",
       "      <td>113.942429</td>\n",
       "      <td>[NE]</td>\n",
       "      <td>[NE, W, S, SE]</td>\n",
       "      <td>[N]</td>\n",
       "    </tr>\n",
       "    <tr>\n",
       "      <th>2</th>\n",
       "      <td>Tai Po</td>\n",
       "      <td>22.450069</td>\n",
       "      <td>114.168770</td>\n",
       "      <td>[NW, N, W]</td>\n",
       "      <td>[NE, N, NW]</td>\n",
       "      <td>[NW]</td>\n",
       "    </tr>\n",
       "    <tr>\n",
       "      <th>3</th>\n",
       "      <td>Sham Shui Po</td>\n",
       "      <td>22.330231</td>\n",
       "      <td>114.159447</td>\n",
       "      <td>[E, SE, N]</td>\n",
       "      <td>[NW, W, NE, SE]</td>\n",
       "      <td>[W, S, SE]</td>\n",
       "    </tr>\n",
       "    <tr>\n",
       "      <th>4</th>\n",
       "      <td>Central</td>\n",
       "      <td>22.282989</td>\n",
       "      <td>114.158462</td>\n",
       "      <td>[N, SE, NE, E, NW]</td>\n",
       "      <td>[N, SW]</td>\n",
       "      <td>[N, SE, NE, E]</td>\n",
       "    </tr>\n",
       "  </tbody>\n",
       "</table>\n",
       "</div>"
      ],
      "text/plain": [
       "  Neighbourhood   Latitude   Longitude Low Restaurant Density  \\\n",
       "0     Hong Kong  22.278320  114.174690  [W, S, SE, NW, NE, N]   \n",
       "1    Tung Chung  22.287830  113.942429                   [NE]   \n",
       "2        Tai Po  22.450069  114.168770             [NW, N, W]   \n",
       "3  Sham Shui Po  22.330231  114.159447             [E, SE, N]   \n",
       "4       Central  22.282989  114.158462     [N, SE, NE, E, NW]   \n",
       "\n",
       "           Low Residence      Scenes/Parks  \n",
       "0  [NW, SE, E, NE, W, S]  [NE, NW, SW, SE]  \n",
       "1         [NE, W, S, SE]               [N]  \n",
       "2            [NE, N, NW]              [NW]  \n",
       "3        [NW, W, NE, SE]        [W, S, SE]  \n",
       "4                [N, SW]    [N, SE, NE, E]  "
      ]
     },
     "execution_count": 77,
     "metadata": {},
     "output_type": "execute_result"
    }
   ],
   "source": [
    "sparea.drop(['Scenes','Parks'], axis = 1, inplace =True)\n",
    "sparea"
   ]
  },
  {
   "cell_type": "markdown",
   "metadata": {},
   "source": [
    "<b>Optimum Regions</b>"
   ]
  },
  {
   "cell_type": "markdown",
   "metadata": {},
   "source": [
    "<br>We will define all those areas who have atleast two factors in common :</br>\n",
    "* Low Restaurant Density and Scenes/Parks\n",
    "* Low Residence and Scenes/Parks\n",
    "* Low Resrurant Density and Low Residence Density"
   ]
  },
  {
   "cell_type": "markdown",
   "metadata": {},
   "source": [
    "<b>The common areas will be our optimum zones.</b>"
   ]
  },
  {
   "cell_type": "code",
   "execution_count": 78,
   "metadata": {},
   "outputs": [],
   "source": [
    "temp = []\n",
    "for x in sparea['Neighbourhood']:\n",
    "    #set_rest = set(sparea[sparea['Neighbourhood'] == x]['Low Restaurant Density'].values)\n",
    "    rest = sparea[sparea['Neighbourhood'] == x]['Low Restaurant Density'].values\n",
    "    resi = sparea[sparea['Neighbourhood'] == x]['Low Residence'].values\n",
    "    sp = sparea[sparea['Neighbourhood'] == x]['Scenes/Parks'].values\n",
    "    \n",
    "    set_rest = set(rest[0])\n",
    "    set_resi = set(resi[0])\n",
    "    set_sp = set(sp[0])\n",
    "    \n",
    "    cl1 = list(set_rest & set_resi)\n",
    "    cl2 = list(set_rest & set_sp)\n",
    "    cl3 = list(set_resi & set_sp)\n",
    "    \n",
    "    temp.append(list(set(cl1 + cl2 + cl3)))"
   ]
  },
  {
   "cell_type": "code",
   "execution_count": 79,
   "metadata": {},
   "outputs": [],
   "source": [
    "sparea['Optimum Regions'] = temp\n"
   ]
  },
  {
   "cell_type": "code",
   "execution_count": 80,
   "metadata": {},
   "outputs": [
    {
     "data": {
      "text/html": [
       "<div>\n",
       "<style scoped>\n",
       "    .dataframe tbody tr th:only-of-type {\n",
       "        vertical-align: middle;\n",
       "    }\n",
       "\n",
       "    .dataframe tbody tr th {\n",
       "        vertical-align: top;\n",
       "    }\n",
       "\n",
       "    .dataframe thead th {\n",
       "        text-align: right;\n",
       "    }\n",
       "</style>\n",
       "<table border=\"1\" class=\"dataframe\">\n",
       "  <thead>\n",
       "    <tr style=\"text-align: right;\">\n",
       "      <th></th>\n",
       "      <th>Neighbourhood</th>\n",
       "      <th>Latitude</th>\n",
       "      <th>Longitude</th>\n",
       "      <th>Low Restaurant Density</th>\n",
       "      <th>Low Residence</th>\n",
       "      <th>Scenes/Parks</th>\n",
       "      <th>Optimum Regions</th>\n",
       "    </tr>\n",
       "  </thead>\n",
       "  <tbody>\n",
       "    <tr>\n",
       "      <th>0</th>\n",
       "      <td>Hong Kong</td>\n",
       "      <td>22.278320</td>\n",
       "      <td>114.174690</td>\n",
       "      <td>[W, S, SE, NW, NE, N]</td>\n",
       "      <td>[NW, SE, E, NE, W, S]</td>\n",
       "      <td>[NE, NW, SW, SE]</td>\n",
       "      <td>[SE, NW, NE, W, S]</td>\n",
       "    </tr>\n",
       "    <tr>\n",
       "      <th>1</th>\n",
       "      <td>Tung Chung</td>\n",
       "      <td>22.287830</td>\n",
       "      <td>113.942429</td>\n",
       "      <td>[NE]</td>\n",
       "      <td>[NE, W, S, SE]</td>\n",
       "      <td>[N]</td>\n",
       "      <td>[NE]</td>\n",
       "    </tr>\n",
       "    <tr>\n",
       "      <th>2</th>\n",
       "      <td>Tai Po</td>\n",
       "      <td>22.450069</td>\n",
       "      <td>114.168770</td>\n",
       "      <td>[NW, N, W]</td>\n",
       "      <td>[NE, N, NW]</td>\n",
       "      <td>[NW]</td>\n",
       "      <td>[N, NW]</td>\n",
       "    </tr>\n",
       "    <tr>\n",
       "      <th>3</th>\n",
       "      <td>Sham Shui Po</td>\n",
       "      <td>22.330231</td>\n",
       "      <td>114.159447</td>\n",
       "      <td>[E, SE, N]</td>\n",
       "      <td>[NW, W, NE, SE]</td>\n",
       "      <td>[W, S, SE]</td>\n",
       "      <td>[W, SE]</td>\n",
       "    </tr>\n",
       "    <tr>\n",
       "      <th>4</th>\n",
       "      <td>Central</td>\n",
       "      <td>22.282989</td>\n",
       "      <td>114.158462</td>\n",
       "      <td>[N, SE, NE, E, NW]</td>\n",
       "      <td>[N, SW]</td>\n",
       "      <td>[N, SE, NE, E]</td>\n",
       "      <td>[N, E, NE, SE]</td>\n",
       "    </tr>\n",
       "  </tbody>\n",
       "</table>\n",
       "</div>"
      ],
      "text/plain": [
       "  Neighbourhood   Latitude   Longitude Low Restaurant Density  \\\n",
       "0     Hong Kong  22.278320  114.174690  [W, S, SE, NW, NE, N]   \n",
       "1    Tung Chung  22.287830  113.942429                   [NE]   \n",
       "2        Tai Po  22.450069  114.168770             [NW, N, W]   \n",
       "3  Sham Shui Po  22.330231  114.159447             [E, SE, N]   \n",
       "4       Central  22.282989  114.158462     [N, SE, NE, E, NW]   \n",
       "\n",
       "           Low Residence      Scenes/Parks     Optimum Regions  \n",
       "0  [NW, SE, E, NE, W, S]  [NE, NW, SW, SE]  [SE, NW, NE, W, S]  \n",
       "1         [NE, W, S, SE]               [N]                [NE]  \n",
       "2            [NE, N, NW]              [NW]             [N, NW]  \n",
       "3        [NW, W, NE, SE]        [W, S, SE]             [W, SE]  \n",
       "4                [N, SW]    [N, SE, NE, E]      [N, E, NE, SE]  "
      ]
     },
     "execution_count": 80,
     "metadata": {},
     "output_type": "execute_result"
    }
   ],
   "source": [
    "sparea"
   ]
  },
  {
   "cell_type": "markdown",
   "metadata": {},
   "source": [
    "Finally, we are about to reach our goal. We have identified preferred zones."
   ]
  },
  {
   "cell_type": "markdown",
   "metadata": {},
   "source": [
    "<b>Get Venues Of These Optimum Regions</b>"
   ]
  },
  {
   "cell_type": "code",
   "execution_count": 81,
   "metadata": {},
   "outputs": [
    {
     "name": "stdout",
     "output_type": "stream",
     "text": [
      "Hong Kong\n",
      "Tung Chung\n",
      "Tai Po\n",
      "Sham Shui Po\n",
      "Central\n",
      "(347, 7)\n"
     ]
    }
   ],
   "source": [
    "prefered_locs = getNearbyVenues(categoryid = '' ,\n",
    "                                  names = sparea['Neighbourhood'],\n",
    "                                   latitudes = sparea['Latitude'],\n",
    "                                   longitudes = sparea['Longitude'])\n",
    "print(prefered_locs.shape)"
   ]
  },
  {
   "cell_type": "code",
   "execution_count": 82,
   "metadata": {},
   "outputs": [
    {
     "data": {
      "text/html": [
       "<div>\n",
       "<style scoped>\n",
       "    .dataframe tbody tr th:only-of-type {\n",
       "        vertical-align: middle;\n",
       "    }\n",
       "\n",
       "    .dataframe tbody tr th {\n",
       "        vertical-align: top;\n",
       "    }\n",
       "\n",
       "    .dataframe thead th {\n",
       "        text-align: right;\n",
       "    }\n",
       "</style>\n",
       "<table border=\"1\" class=\"dataframe\">\n",
       "  <thead>\n",
       "    <tr style=\"text-align: right;\">\n",
       "      <th></th>\n",
       "      <th>Neighbourhood</th>\n",
       "      <th>Neighbourhood Latitude</th>\n",
       "      <th>Neighbourhood Longitude</th>\n",
       "      <th>Venue</th>\n",
       "      <th>Venue Latitude</th>\n",
       "      <th>Venue Longitude</th>\n",
       "      <th>Venue Category</th>\n",
       "    </tr>\n",
       "  </thead>\n",
       "  <tbody>\n",
       "    <tr>\n",
       "      <th>0</th>\n",
       "      <td>Hong Kong</td>\n",
       "      <td>22.27832</td>\n",
       "      <td>114.17469</td>\n",
       "      <td>The Fleming (芬名酒店)</td>\n",
       "      <td>22.279033</td>\n",
       "      <td>114.174722</td>\n",
       "      <td>Hotel</td>\n",
       "    </tr>\n",
       "    <tr>\n",
       "      <th>1</th>\n",
       "      <td>Hong Kong</td>\n",
       "      <td>22.27832</td>\n",
       "      <td>114.17469</td>\n",
       "      <td>Zahrabel</td>\n",
       "      <td>22.278194</td>\n",
       "      <td>114.175912</td>\n",
       "      <td>Middle Eastern Restaurant</td>\n",
       "    </tr>\n",
       "    <tr>\n",
       "      <th>2</th>\n",
       "      <td>Hong Kong</td>\n",
       "      <td>22.27832</td>\n",
       "      <td>114.17469</td>\n",
       "      <td>The Optimist</td>\n",
       "      <td>22.278049</td>\n",
       "      <td>114.175854</td>\n",
       "      <td>Spanish Restaurant</td>\n",
       "    </tr>\n",
       "    <tr>\n",
       "      <th>3</th>\n",
       "      <td>Hong Kong</td>\n",
       "      <td>22.27832</td>\n",
       "      <td>114.17469</td>\n",
       "      <td>Kam's Roast Goose (甘牌燒鵝)</td>\n",
       "      <td>22.277647</td>\n",
       "      <td>114.175361</td>\n",
       "      <td>Cantonese Restaurant</td>\n",
       "    </tr>\n",
       "    <tr>\n",
       "      <th>4</th>\n",
       "      <td>Hong Kong</td>\n",
       "      <td>22.27832</td>\n",
       "      <td>114.17469</td>\n",
       "      <td>Seorae (喜來稀肉)</td>\n",
       "      <td>22.278280</td>\n",
       "      <td>114.174143</td>\n",
       "      <td>Korean Restaurant</td>\n",
       "    </tr>\n",
       "  </tbody>\n",
       "</table>\n",
       "</div>"
      ],
      "text/plain": [
       "  Neighbourhood  Neighbourhood Latitude  Neighbourhood Longitude  \\\n",
       "0     Hong Kong                22.27832                114.17469   \n",
       "1     Hong Kong                22.27832                114.17469   \n",
       "2     Hong Kong                22.27832                114.17469   \n",
       "3     Hong Kong                22.27832                114.17469   \n",
       "4     Hong Kong                22.27832                114.17469   \n",
       "\n",
       "                      Venue  Venue Latitude  Venue Longitude  \\\n",
       "0        The Fleming (芬名酒店)       22.279033       114.174722   \n",
       "1                  Zahrabel       22.278194       114.175912   \n",
       "2              The Optimist       22.278049       114.175854   \n",
       "3  Kam's Roast Goose (甘牌燒鵝)       22.277647       114.175361   \n",
       "4             Seorae (喜來稀肉)       22.278280       114.174143   \n",
       "\n",
       "              Venue Category  \n",
       "0                      Hotel  \n",
       "1  Middle Eastern Restaurant  \n",
       "2         Spanish Restaurant  \n",
       "3       Cantonese Restaurant  \n",
       "4          Korean Restaurant  "
      ]
     },
     "execution_count": 82,
     "metadata": {},
     "output_type": "execute_result"
    }
   ],
   "source": [
    "prefered_locs.head()"
   ]
  },
  {
   "cell_type": "markdown",
   "metadata": {},
   "source": [
    "Get venue locations as well."
   ]
  },
  {
   "cell_type": "code",
   "execution_count": 83,
   "metadata": {},
   "outputs": [],
   "source": [
    "spos = []\n",
    "for i in range(prefered_locs['Venue'].size):\n",
    "    spos.append(checkposition(prefered_locs['Neighbourhood Latitude'][i], prefered_locs['Neighbourhood Longitude'][i],\n",
    "                   prefered_locs['Venue Latitude'][i], prefered_locs['Venue Longitude'][i]))\n",
    "prefered_locs['Location'] = spos"
   ]
  },
  {
   "cell_type": "code",
   "execution_count": 84,
   "metadata": {},
   "outputs": [
    {
     "data": {
      "text/html": [
       "<div>\n",
       "<style scoped>\n",
       "    .dataframe tbody tr th:only-of-type {\n",
       "        vertical-align: middle;\n",
       "    }\n",
       "\n",
       "    .dataframe tbody tr th {\n",
       "        vertical-align: top;\n",
       "    }\n",
       "\n",
       "    .dataframe thead th {\n",
       "        text-align: right;\n",
       "    }\n",
       "</style>\n",
       "<table border=\"1\" class=\"dataframe\">\n",
       "  <thead>\n",
       "    <tr style=\"text-align: right;\">\n",
       "      <th></th>\n",
       "      <th>Neighbourhood</th>\n",
       "      <th>Neighbourhood Latitude</th>\n",
       "      <th>Neighbourhood Longitude</th>\n",
       "      <th>Venue</th>\n",
       "      <th>Venue Latitude</th>\n",
       "      <th>Venue Longitude</th>\n",
       "      <th>Venue Category</th>\n",
       "      <th>Location</th>\n",
       "    </tr>\n",
       "  </thead>\n",
       "  <tbody>\n",
       "    <tr>\n",
       "      <th>0</th>\n",
       "      <td>Hong Kong</td>\n",
       "      <td>22.27832</td>\n",
       "      <td>114.17469</td>\n",
       "      <td>The Fleming (芬名酒店)</td>\n",
       "      <td>22.279033</td>\n",
       "      <td>114.174722</td>\n",
       "      <td>Hotel</td>\n",
       "      <td>N</td>\n",
       "    </tr>\n",
       "    <tr>\n",
       "      <th>1</th>\n",
       "      <td>Hong Kong</td>\n",
       "      <td>22.27832</td>\n",
       "      <td>114.17469</td>\n",
       "      <td>Zahrabel</td>\n",
       "      <td>22.278194</td>\n",
       "      <td>114.175912</td>\n",
       "      <td>Middle Eastern Restaurant</td>\n",
       "      <td>E</td>\n",
       "    </tr>\n",
       "    <tr>\n",
       "      <th>2</th>\n",
       "      <td>Hong Kong</td>\n",
       "      <td>22.27832</td>\n",
       "      <td>114.17469</td>\n",
       "      <td>The Optimist</td>\n",
       "      <td>22.278049</td>\n",
       "      <td>114.175854</td>\n",
       "      <td>Spanish Restaurant</td>\n",
       "      <td>E</td>\n",
       "    </tr>\n",
       "    <tr>\n",
       "      <th>3</th>\n",
       "      <td>Hong Kong</td>\n",
       "      <td>22.27832</td>\n",
       "      <td>114.17469</td>\n",
       "      <td>Kam's Roast Goose (甘牌燒鵝)</td>\n",
       "      <td>22.277647</td>\n",
       "      <td>114.175361</td>\n",
       "      <td>Cantonese Restaurant</td>\n",
       "      <td>SE</td>\n",
       "    </tr>\n",
       "    <tr>\n",
       "      <th>4</th>\n",
       "      <td>Hong Kong</td>\n",
       "      <td>22.27832</td>\n",
       "      <td>114.17469</td>\n",
       "      <td>Seorae (喜來稀肉)</td>\n",
       "      <td>22.278280</td>\n",
       "      <td>114.174143</td>\n",
       "      <td>Korean Restaurant</td>\n",
       "      <td>W</td>\n",
       "    </tr>\n",
       "  </tbody>\n",
       "</table>\n",
       "</div>"
      ],
      "text/plain": [
       "  Neighbourhood  Neighbourhood Latitude  Neighbourhood Longitude  \\\n",
       "0     Hong Kong                22.27832                114.17469   \n",
       "1     Hong Kong                22.27832                114.17469   \n",
       "2     Hong Kong                22.27832                114.17469   \n",
       "3     Hong Kong                22.27832                114.17469   \n",
       "4     Hong Kong                22.27832                114.17469   \n",
       "\n",
       "                      Venue  Venue Latitude  Venue Longitude  \\\n",
       "0        The Fleming (芬名酒店)       22.279033       114.174722   \n",
       "1                  Zahrabel       22.278194       114.175912   \n",
       "2              The Optimist       22.278049       114.175854   \n",
       "3  Kam's Roast Goose (甘牌燒鵝)       22.277647       114.175361   \n",
       "4             Seorae (喜來稀肉)       22.278280       114.174143   \n",
       "\n",
       "              Venue Category Location  \n",
       "0                      Hotel        N  \n",
       "1  Middle Eastern Restaurant        E  \n",
       "2         Spanish Restaurant        E  \n",
       "3       Cantonese Restaurant       SE  \n",
       "4          Korean Restaurant        W  "
      ]
     },
     "execution_count": 84,
     "metadata": {},
     "output_type": "execute_result"
    }
   ],
   "source": [
    "prefered_locs.head()"
   ]
  },
  {
   "cell_type": "markdown",
   "metadata": {},
   "source": [
    "<b>In the above table we have venues from all the areas. Now let's get rid of all those venues which do not come under common areas which we defined previously. In this way, we will be left with only those venues which lie under preferd zones. </b>"
   ]
  },
  {
   "cell_type": "code",
   "execution_count": 86,
   "metadata": {},
   "outputs": [],
   "source": [
    "for index,row in prefered_locs.iterrows():\n",
    "    sneigh = row['Neighbourhood']\n",
    "    sloc = row['Location']\n",
    "    \n",
    "    l = sparea[sparea['Neighbourhood'] == sneigh]['Optimum Regions'].values\n",
    "    l = l[0]\n",
    "\n",
    "    if(sloc not in l):\n",
    "        prefered_locs.drop(index,inplace = True)"
   ]
  },
  {
   "cell_type": "code",
   "execution_count": 87,
   "metadata": {},
   "outputs": [],
   "source": [
    "prefered_locs = prefered_locs.reset_index(drop = True)"
   ]
  },
  {
   "cell_type": "code",
   "execution_count": 88,
   "metadata": {},
   "outputs": [
    {
     "data": {
      "text/plain": [
       "(101, 8)"
      ]
     },
     "execution_count": 88,
     "metadata": {},
     "output_type": "execute_result"
    }
   ],
   "source": [
    "prefered_locs.shape"
   ]
  },
  {
   "cell_type": "code",
   "execution_count": 89,
   "metadata": {},
   "outputs": [
    {
     "data": {
      "text/html": [
       "<div>\n",
       "<style scoped>\n",
       "    .dataframe tbody tr th:only-of-type {\n",
       "        vertical-align: middle;\n",
       "    }\n",
       "\n",
       "    .dataframe tbody tr th {\n",
       "        vertical-align: top;\n",
       "    }\n",
       "\n",
       "    .dataframe thead th {\n",
       "        text-align: right;\n",
       "    }\n",
       "</style>\n",
       "<table border=\"1\" class=\"dataframe\">\n",
       "  <thead>\n",
       "    <tr style=\"text-align: right;\">\n",
       "      <th></th>\n",
       "      <th>Neighbourhood</th>\n",
       "      <th>Neighbourhood Latitude</th>\n",
       "      <th>Neighbourhood Longitude</th>\n",
       "      <th>Venue</th>\n",
       "      <th>Venue Latitude</th>\n",
       "      <th>Venue Longitude</th>\n",
       "      <th>Venue Category</th>\n",
       "      <th>Location</th>\n",
       "    </tr>\n",
       "  </thead>\n",
       "  <tbody>\n",
       "    <tr>\n",
       "      <th>0</th>\n",
       "      <td>Hong Kong</td>\n",
       "      <td>22.27832</td>\n",
       "      <td>114.17469</td>\n",
       "      <td>Kam's Roast Goose (甘牌燒鵝)</td>\n",
       "      <td>22.277647</td>\n",
       "      <td>114.175361</td>\n",
       "      <td>Cantonese Restaurant</td>\n",
       "      <td>SE</td>\n",
       "    </tr>\n",
       "    <tr>\n",
       "      <th>1</th>\n",
       "      <td>Hong Kong</td>\n",
       "      <td>22.27832</td>\n",
       "      <td>114.17469</td>\n",
       "      <td>Seorae (喜來稀肉)</td>\n",
       "      <td>22.278280</td>\n",
       "      <td>114.174143</td>\n",
       "      <td>Korean Restaurant</td>\n",
       "      <td>W</td>\n",
       "    </tr>\n",
       "    <tr>\n",
       "      <th>2</th>\n",
       "      <td>Hong Kong</td>\n",
       "      <td>22.27832</td>\n",
       "      <td>114.17469</td>\n",
       "      <td>Sang Kee Seafood Restaurant (生記海鮮飯店)</td>\n",
       "      <td>22.277755</td>\n",
       "      <td>114.172093</td>\n",
       "      <td>Seafood Restaurant</td>\n",
       "      <td>W</td>\n",
       "    </tr>\n",
       "    <tr>\n",
       "      <th>3</th>\n",
       "      <td>Hong Kong</td>\n",
       "      <td>22.27832</td>\n",
       "      <td>114.17469</td>\n",
       "      <td>Wooloomooloo Steakhouse</td>\n",
       "      <td>22.277696</td>\n",
       "      <td>114.176140</td>\n",
       "      <td>Steakhouse</td>\n",
       "      <td>SE</td>\n",
       "    </tr>\n",
       "    <tr>\n",
       "      <th>4</th>\n",
       "      <td>Hong Kong</td>\n",
       "      <td>22.27832</td>\n",
       "      <td>114.17469</td>\n",
       "      <td>Hong Zhou Restaurant (杭州酒家)</td>\n",
       "      <td>22.277030</td>\n",
       "      <td>114.175606</td>\n",
       "      <td>Jiangsu Restaurant</td>\n",
       "      <td>SE</td>\n",
       "    </tr>\n",
       "  </tbody>\n",
       "</table>\n",
       "</div>"
      ],
      "text/plain": [
       "  Neighbourhood  Neighbourhood Latitude  Neighbourhood Longitude  \\\n",
       "0     Hong Kong                22.27832                114.17469   \n",
       "1     Hong Kong                22.27832                114.17469   \n",
       "2     Hong Kong                22.27832                114.17469   \n",
       "3     Hong Kong                22.27832                114.17469   \n",
       "4     Hong Kong                22.27832                114.17469   \n",
       "\n",
       "                                  Venue  Venue Latitude  Venue Longitude  \\\n",
       "0              Kam's Roast Goose (甘牌燒鵝)       22.277647       114.175361   \n",
       "1                         Seorae (喜來稀肉)       22.278280       114.174143   \n",
       "2  Sang Kee Seafood Restaurant (生記海鮮飯店)       22.277755       114.172093   \n",
       "3               Wooloomooloo Steakhouse       22.277696       114.176140   \n",
       "4           Hong Zhou Restaurant (杭州酒家)       22.277030       114.175606   \n",
       "\n",
       "         Venue Category Location  \n",
       "0  Cantonese Restaurant       SE  \n",
       "1     Korean Restaurant        W  \n",
       "2    Seafood Restaurant        W  \n",
       "3            Steakhouse       SE  \n",
       "4    Jiangsu Restaurant       SE  "
      ]
     },
     "execution_count": 89,
     "metadata": {},
     "output_type": "execute_result"
    }
   ],
   "source": [
    "prefered_locs.head()"
   ]
  },
  {
   "cell_type": "code",
   "execution_count": 225,
   "metadata": {},
   "outputs": [
    {
     "data": {
      "text/plain": [
       "Cantonese Restaurant             7\n",
       "Japanese Restaurant              7\n",
       "Hong Kong Restaurant             6\n",
       "Lounge                           4\n",
       "Hotel                            4\n",
       "Café                             4\n",
       "Steakhouse                       4\n",
       "Chinese Restaurant               4\n",
       "Hotel Bar                        4\n",
       "Thai Restaurant                  4\n",
       "Korean Restaurant                3\n",
       "Sandwich Place                   3\n",
       "Italian Restaurant               2\n",
       "Spa                              2\n",
       "Dim Sum Restaurant               2\n",
       "Szechuan Restaurant              2\n",
       "Sushi Restaurant                 2\n",
       "Noodle House                     2\n",
       "Bookstore                        2\n",
       "Bakery                           2\n",
       "French Restaurant                1\n",
       "Bus Station                      1\n",
       "Dessert Shop                     1\n",
       "Jiangsu Restaurant               1\n",
       "Hotpot Restaurant                1\n",
       "Pool                             1\n",
       "Mediterranean Restaurant         1\n",
       "Massage Studio                   1\n",
       "Supermarket                      1\n",
       "Shanghai Restaurant              1\n",
       "Taiwanese Restaurant             1\n",
       "Malay Restaurant                 1\n",
       "Deli / Bodega                    1\n",
       "Vietnamese Restaurant            1\n",
       "Tea Room                         1\n",
       "History Museum                   1\n",
       "Cupcake Shop                     1\n",
       "Seafood Restaurant               1\n",
       "Fast Food Restaurant             1\n",
       "Grocery Store                    1\n",
       "Airport Service                  1\n",
       "Multiplex                        1\n",
       "Shopping Mall                    1\n",
       "Ice Cream Shop                   1\n",
       "Gym / Fitness Center             1\n",
       "Historic Site                    1\n",
       "Social Club                      1\n",
       "Electronics Store                1\n",
       "Restaurant                       1\n",
       "Coffee Shop                      1\n",
       "Vegetarian / Vegan Restaurant    1\n",
       "Name: Venue Category, dtype: int64"
      ]
     },
     "execution_count": 225,
     "metadata": {},
     "output_type": "execute_result"
    }
   ],
   "source": [
    "prefered_locs['Venue Category'].value_counts()"
   ]
  },
  {
   "cell_type": "markdown",
   "metadata": {},
   "source": [
    "<b>Let's see how many restaurants are there in Optimum regions</b>"
   ]
  },
  {
   "cell_type": "code",
   "execution_count": 221,
   "metadata": {},
   "outputs": [],
   "source": [
    "optimum_rest = prefered_locs[prefered_locs['Venue Category'].str.contains('Rest')]\n",
    "optimum_rest = optimum_rest.reset_index(drop = True)"
   ]
  },
  {
   "cell_type": "code",
   "execution_count": 222,
   "metadata": {},
   "outputs": [
    {
     "data": {
      "text/plain": [
       "Neighbourhood\n",
       "Hong Kong       25\n",
       "Tung Chung       3\n",
       "Tai Po           7\n",
       "Sham Shui Po     4\n",
       "Central         12\n",
       "dtype: int64"
      ]
     },
     "execution_count": 222,
     "metadata": {},
     "output_type": "execute_result"
    }
   ],
   "source": [
    "orest = optimum_rest.groupby('Neighbourhood', sort = False).size()\n",
    "orest"
   ]
  },
  {
   "cell_type": "markdown",
   "metadata": {},
   "source": [
    "Give it a tabular form"
   ]
  },
  {
   "cell_type": "code",
   "execution_count": 228,
   "metadata": {},
   "outputs": [],
   "source": [
    "optimum_df = pd.DataFrame()"
   ]
  },
  {
   "cell_type": "code",
   "execution_count": 229,
   "metadata": {},
   "outputs": [
    {
     "data": {
      "text/html": [
       "<div>\n",
       "<style scoped>\n",
       "    .dataframe tbody tr th:only-of-type {\n",
       "        vertical-align: middle;\n",
       "    }\n",
       "\n",
       "    .dataframe tbody tr th {\n",
       "        vertical-align: top;\n",
       "    }\n",
       "\n",
       "    .dataframe thead th {\n",
       "        text-align: right;\n",
       "    }\n",
       "</style>\n",
       "<table border=\"1\" class=\"dataframe\">\n",
       "  <thead>\n",
       "    <tr style=\"text-align: right;\">\n",
       "      <th></th>\n",
       "      <th>Neighbourhood</th>\n",
       "      <th>Optimum Regions</th>\n",
       "      <th>Restaurants</th>\n",
       "    </tr>\n",
       "  </thead>\n",
       "  <tbody>\n",
       "    <tr>\n",
       "      <th>0</th>\n",
       "      <td>Hong Kong</td>\n",
       "      <td>[SE, NW, NE, W, S]</td>\n",
       "      <td>25</td>\n",
       "    </tr>\n",
       "    <tr>\n",
       "      <th>1</th>\n",
       "      <td>Tung Chung</td>\n",
       "      <td>[NE]</td>\n",
       "      <td>3</td>\n",
       "    </tr>\n",
       "    <tr>\n",
       "      <th>2</th>\n",
       "      <td>Tai Po</td>\n",
       "      <td>[N, NW]</td>\n",
       "      <td>7</td>\n",
       "    </tr>\n",
       "    <tr>\n",
       "      <th>3</th>\n",
       "      <td>Sham Shui Po</td>\n",
       "      <td>[W, SE]</td>\n",
       "      <td>4</td>\n",
       "    </tr>\n",
       "    <tr>\n",
       "      <th>4</th>\n",
       "      <td>Central</td>\n",
       "      <td>[N, E, NE, SE]</td>\n",
       "      <td>12</td>\n",
       "    </tr>\n",
       "  </tbody>\n",
       "</table>\n",
       "</div>"
      ],
      "text/plain": [
       "  Neighbourhood     Optimum Regions  Restaurants\n",
       "0     Hong Kong  [SE, NW, NE, W, S]           25\n",
       "1    Tung Chung                [NE]            3\n",
       "2        Tai Po             [N, NW]            7\n",
       "3  Sham Shui Po             [W, SE]            4\n",
       "4       Central      [N, E, NE, SE]           12"
      ]
     },
     "execution_count": 229,
     "metadata": {},
     "output_type": "execute_result"
    }
   ],
   "source": [
    "optimum_df['Neighbourhood'] = orest.keys()\n",
    "optimum_df['Optimum Regions'] = sparea['Optimum Regions']\n",
    "optimum_df['Restaurants'] = orest.values\n",
    "optimum_df"
   ]
  },
  {
   "cell_type": "markdown",
   "metadata": {},
   "source": [
    "Let's see how many vegetarian restaurants are there in optimum regions"
   ]
  },
  {
   "cell_type": "code",
   "execution_count": 230,
   "metadata": {},
   "outputs": [],
   "source": [
    "optimum_df['Veg'] = [0,0,0,0,0]"
   ]
  },
  {
   "cell_type": "code",
   "execution_count": 231,
   "metadata": {},
   "outputs": [],
   "source": [
    "for index,row in optimum_rest.iterrows():\n",
    "    if 'Veg' in row['Venue Category']:\n",
    "        temp = optimum_df[optimum_df['Neighbourhood'] == row['Neighbourhood']]['Veg']\n",
    "        idx = optimum_df[optimum_df['Neighbourhood'] == row['Neighbourhood']].index.values.astype(int)[0]\n",
    "        optimum_df.loc[idx, 'Veg'] = int(temp)+1"
   ]
  },
  {
   "cell_type": "code",
   "execution_count": 232,
   "metadata": {},
   "outputs": [
    {
     "data": {
      "text/html": [
       "<div>\n",
       "<style scoped>\n",
       "    .dataframe tbody tr th:only-of-type {\n",
       "        vertical-align: middle;\n",
       "    }\n",
       "\n",
       "    .dataframe tbody tr th {\n",
       "        vertical-align: top;\n",
       "    }\n",
       "\n",
       "    .dataframe thead th {\n",
       "        text-align: right;\n",
       "    }\n",
       "</style>\n",
       "<table border=\"1\" class=\"dataframe\">\n",
       "  <thead>\n",
       "    <tr style=\"text-align: right;\">\n",
       "      <th></th>\n",
       "      <th>Neighbourhood</th>\n",
       "      <th>Optimum Regions</th>\n",
       "      <th>Restaurants</th>\n",
       "      <th>Veg</th>\n",
       "    </tr>\n",
       "  </thead>\n",
       "  <tbody>\n",
       "    <tr>\n",
       "      <th>0</th>\n",
       "      <td>Hong Kong</td>\n",
       "      <td>[SE, NW, NE, W, S]</td>\n",
       "      <td>25</td>\n",
       "      <td>1</td>\n",
       "    </tr>\n",
       "    <tr>\n",
       "      <th>1</th>\n",
       "      <td>Tung Chung</td>\n",
       "      <td>[NE]</td>\n",
       "      <td>3</td>\n",
       "      <td>0</td>\n",
       "    </tr>\n",
       "    <tr>\n",
       "      <th>2</th>\n",
       "      <td>Tai Po</td>\n",
       "      <td>[N, NW]</td>\n",
       "      <td>7</td>\n",
       "      <td>0</td>\n",
       "    </tr>\n",
       "    <tr>\n",
       "      <th>3</th>\n",
       "      <td>Sham Shui Po</td>\n",
       "      <td>[W, SE]</td>\n",
       "      <td>4</td>\n",
       "      <td>0</td>\n",
       "    </tr>\n",
       "    <tr>\n",
       "      <th>4</th>\n",
       "      <td>Central</td>\n",
       "      <td>[N, E, NE, SE]</td>\n",
       "      <td>12</td>\n",
       "      <td>0</td>\n",
       "    </tr>\n",
       "  </tbody>\n",
       "</table>\n",
       "</div>"
      ],
      "text/plain": [
       "  Neighbourhood     Optimum Regions  Restaurants  Veg\n",
       "0     Hong Kong  [SE, NW, NE, W, S]           25    1\n",
       "1    Tung Chung                [NE]            3    0\n",
       "2        Tai Po             [N, NW]            7    0\n",
       "3  Sham Shui Po             [W, SE]            4    0\n",
       "4       Central      [N, E, NE, SE]           12    0"
      ]
     },
     "execution_count": 232,
     "metadata": {},
     "output_type": "execute_result"
    }
   ],
   "source": [
    "optimum_df"
   ]
  },
  {
   "cell_type": "markdown",
   "metadata": {},
   "source": [
    "It can be seen that in our optimum zones, there is only one vegetarian restaurant. It is worth mentioning that there are several restaurants in each and every region of Hong Kong. We have reached our optimum regions where number restaurants or residential areas are relatively pretty less as well as near some scenic spot."
   ]
  },
  {
   "cell_type": "markdown",
   "metadata": {},
   "source": [
    "Let's visualise our optimum regions before proceeding further"
   ]
  },
  {
   "cell_type": "code",
   "execution_count": 91,
   "metadata": {},
   "outputs": [
    {
     "data": {
      "text/html": [
       "<div style=\"width:100%;\"><div style=\"position:relative;width:100%;height:0;padding-bottom:60%;\"><iframe src=\"data:text/html;charset=utf-8;base64,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\" style=\"position:absolute;width:100%;height:100%;left:0;top:0;border:none !important;\" allowfullscreen webkitallowfullscreen mozallowfullscreen></iframe></div></div>"
      ],
      "text/plain": [
       "<folium.folium.Map at 0x7f4e281a1a58>"
      ]
     },
     "execution_count": 91,
     "metadata": {},
     "output_type": "execute_result"
    }
   ],
   "source": [
    "map_pref = folium.Map(location=[latitude, longitude], zoom_start=10)\n",
    "folium.TileLayer('cartodbpositron').add_to(map_pref)\n",
    "\n",
    "# add markers to map\n",
    "for lat, lng, ven in zip(prefered_locs['Venue Latitude'], prefered_locs['Venue Longitude'], \n",
    "                          prefered_locs['Venue']):\n",
    "    label = '{}'.format(ven)\n",
    "    label = folium.Popup(label, parse_html=True)\n",
    "    folium.CircleMarker(\n",
    "        [lat, lng],\n",
    "        radius=5,\n",
    "        popup=label,\n",
    "        color='blue',\n",
    "        fill=True,\n",
    "        fill_color='#3186cc',\n",
    "        fill_opacity=0.7,\n",
    "        parse_html=False).add_to(map_pref)  \n",
    "    \n",
    "map_pref"
   ]
  },
  {
   "cell_type": "markdown",
   "metadata": {},
   "source": [
    "<h2>K- means Clustering</h2>"
   ]
  },
  {
   "cell_type": "code",
   "execution_count": 92,
   "metadata": {},
   "outputs": [],
   "source": [
    "from sklearn.cluster import KMeans\n",
    "\n",
    "number_of_clusters = 5\n",
    "\n",
    "pref_lat_long = prefered_locs[['Venue Latitude', 'Venue Longitude']].values\n",
    "kmeans = KMeans(n_clusters=number_of_clusters, random_state=0).fit(pref_lat_long)\n",
    "\n",
    "# check cluster labels generated for each row in the dataframe\n",
    "#kmeans.labels_[0:10] \n"
   ]
  },
  {
   "cell_type": "markdown",
   "metadata": {},
   "source": [
    "Coordinates for cluster centers"
   ]
  },
  {
   "cell_type": "code",
   "execution_count": 93,
   "metadata": {},
   "outputs": [
    {
     "name": "stdout",
     "output_type": "stream",
     "text": [
      "[ 22.29027682 113.94351962]\n",
      "[ 22.28332206 114.15918593]\n",
      "[ 22.45305701 114.16780213]\n",
      "[ 22.27802033 114.1732967 ]\n",
      "[ 22.32812909 114.16167531]\n"
     ]
    }
   ],
   "source": [
    "cluster_centers =[]\n",
    "clat = []\n",
    "clong = []\n",
    "for cc in kmeans.cluster_centers_:\n",
    "    clat.append(cc[0])\n",
    "    clong.append(cc[1])\n",
    "    #cluster_centers.append(t[0])\n",
    "    print(cc)"
   ]
  },
  {
   "cell_type": "markdown",
   "metadata": {},
   "source": [
    "Let's draw this information into a dataframe"
   ]
  },
  {
   "cell_type": "code",
   "execution_count": 94,
   "metadata": {},
   "outputs": [],
   "source": [
    "cluster_df = pd.DataFrame()"
   ]
  },
  {
   "cell_type": "code",
   "execution_count": 95,
   "metadata": {},
   "outputs": [],
   "source": [
    "cluster_df['Clusters'] = ['Cluster 1', 'Cluster 2', 'Cluster 3', 'Cluster 4', 'Cluster 5']"
   ]
  },
  {
   "cell_type": "code",
   "execution_count": 96,
   "metadata": {},
   "outputs": [],
   "source": [
    "cluster_df['Latitude'] = clat[:5]\n",
    "cluster_df['Longitude'] = clong[:5]"
   ]
  },
  {
   "cell_type": "code",
   "execution_count": 97,
   "metadata": {},
   "outputs": [
    {
     "data": {
      "text/html": [
       "<div>\n",
       "<style scoped>\n",
       "    .dataframe tbody tr th:only-of-type {\n",
       "        vertical-align: middle;\n",
       "    }\n",
       "\n",
       "    .dataframe tbody tr th {\n",
       "        vertical-align: top;\n",
       "    }\n",
       "\n",
       "    .dataframe thead th {\n",
       "        text-align: right;\n",
       "    }\n",
       "</style>\n",
       "<table border=\"1\" class=\"dataframe\">\n",
       "  <thead>\n",
       "    <tr style=\"text-align: right;\">\n",
       "      <th></th>\n",
       "      <th>Clusters</th>\n",
       "      <th>Latitude</th>\n",
       "      <th>Longitude</th>\n",
       "    </tr>\n",
       "  </thead>\n",
       "  <tbody>\n",
       "    <tr>\n",
       "      <th>0</th>\n",
       "      <td>Cluster 1</td>\n",
       "      <td>22.290277</td>\n",
       "      <td>113.943520</td>\n",
       "    </tr>\n",
       "    <tr>\n",
       "      <th>1</th>\n",
       "      <td>Cluster 2</td>\n",
       "      <td>22.283322</td>\n",
       "      <td>114.159186</td>\n",
       "    </tr>\n",
       "    <tr>\n",
       "      <th>2</th>\n",
       "      <td>Cluster 3</td>\n",
       "      <td>22.453057</td>\n",
       "      <td>114.167802</td>\n",
       "    </tr>\n",
       "    <tr>\n",
       "      <th>3</th>\n",
       "      <td>Cluster 4</td>\n",
       "      <td>22.278020</td>\n",
       "      <td>114.173297</td>\n",
       "    </tr>\n",
       "    <tr>\n",
       "      <th>4</th>\n",
       "      <td>Cluster 5</td>\n",
       "      <td>22.328129</td>\n",
       "      <td>114.161675</td>\n",
       "    </tr>\n",
       "  </tbody>\n",
       "</table>\n",
       "</div>"
      ],
      "text/plain": [
       "    Clusters   Latitude   Longitude\n",
       "0  Cluster 1  22.290277  113.943520\n",
       "1  Cluster 2  22.283322  114.159186\n",
       "2  Cluster 3  22.453057  114.167802\n",
       "3  Cluster 4  22.278020  114.173297\n",
       "4  Cluster 5  22.328129  114.161675"
      ]
     },
     "execution_count": 97,
     "metadata": {},
     "output_type": "execute_result"
    }
   ],
   "source": [
    "cluster_df"
   ]
  },
  {
   "cell_type": "markdown",
   "metadata": {},
   "source": [
    "<h2>Final Visualisation.</h2>"
   ]
  },
  {
   "cell_type": "code",
   "execution_count": 99,
   "metadata": {},
   "outputs": [
    {
     "data": {
      "text/html": [
       "<div style=\"width:100%;\"><div style=\"position:relative;width:100%;height:0;padding-bottom:60%;\"><iframe src=\"data:text/html;charset=utf-8;base64,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\" style=\"position:absolute;width:100%;height:100%;left:0;top:0;border:none !important;\" allowfullscreen webkitallowfullscreen mozallowfullscreen></iframe></div></div>"
      ],
      "text/plain": [
       "<folium.folium.Map at 0x7f4e22e8ae80>"
      ]
     },
     "execution_count": 99,
     "metadata": {},
     "output_type": "execute_result"
    }
   ],
   "source": [
    "from folium.plugins import HeatMap\n",
    "\n",
    "map_hk = folium.Map(location=[latitude, longitude], zoom_start=11)\n",
    "folium.TileLayer('cartodbpositron').add_to(map_hk)\n",
    "folium.Circle(location=[latitude, longitude], color='white', fill=True, fill_opacity=0.4).add_to(map_hk)\n",
    "folium.Marker([latitude, longitude]).add_to(map_hk)\n",
    "\n",
    "for lat,lon in zip(clat,clong):\n",
    "    folium.Circle([lat, lon], radius=800, color='green', fill=True, fill_opacity=0.25).add_to(map_hk) \n",
    "for lat, lon in zip(prefered_locs['Venue Latitude'], prefered_locs['Venue Longitude']):\n",
    "    folium.CircleMarker([lat, lon], radius=2, color='blue', fill=True, fill_color='blue', fill_opacity=1).add_to(map_hk)\n",
    "map_hk"
   ]
  }
 ],
 "metadata": {
  "kernelspec": {
   "display_name": "Python 3",
   "language": "python",
   "name": "python3"
  },
  "language_info": {
   "codemirror_mode": {
    "name": "ipython",
    "version": 3
   },
   "file_extension": ".py",
   "mimetype": "text/x-python",
   "name": "python",
   "nbconvert_exporter": "python",
   "pygments_lexer": "ipython3",
   "version": "3.6.8"
  }
 },
 "nbformat": 4,
 "nbformat_minor": 2
}
